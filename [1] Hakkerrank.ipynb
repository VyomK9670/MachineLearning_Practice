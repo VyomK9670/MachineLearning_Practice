{
 "cells": [
  {
   "cell_type": "code",
   "execution_count": 39,
   "id": "41455ce1",
   "metadata": {},
   "outputs": [
    {
     "name": "stdout",
     "output_type": "stream",
     "text": [
      " *  *  *  * \n",
      " *        *\n",
      " *        *\n",
      " *        *\n"
     ]
    }
   ],
   "source": [
    "s= 4\n",
    "for i in range(1,s):\n",
    "    if i== 1 or i == s:\n",
    "        print(' * '*s)\n",
    "    if i !=1 or i !=s:\n",
    "        print(' * ',' '*(s),' *') \n",
    "        "
   ]
  },
  {
   "cell_type": "code",
   "execution_count": 48,
   "id": "bfaf68c3",
   "metadata": {},
   "outputs": [
    {
     "name": "stdout",
     "output_type": "stream",
     "text": [
      "* * * * \n",
      "*     * \n",
      "*     * \n",
      "* * * * \n"
     ]
    }
   ],
   "source": [
    "def square(s):\n",
    "    #Complete the code given below\n",
    "    # Replace the .... by your own code\n",
    "\n",
    "    length = s\n",
    "\n",
    "    for i in range(length):\n",
    "        for j in range(length):\n",
    "            if(i == 0 or i == length - 1 or j == 0 or j == length - 1):\n",
    "                print('*', end = ' ')\n",
    "            else:\n",
    "                print(' ', end = ' ')\n",
    "        print()\n",
    "square(4)"
   ]
  },
  {
   "cell_type": "code",
   "execution_count": null,
   "id": "28886191",
   "metadata": {},
   "outputs": [],
   "source": []
  },
  {
   "cell_type": "code",
   "execution_count": 11,
   "id": "b3a5bbc2",
   "metadata": {},
   "outputs": [
    {
     "name": "stdout",
     "output_type": "stream",
     "text": [
      "5\n",
      " *  *  *  *  * \n",
      " *  *  *  *  * \n",
      " *  *  *  *  * \n",
      " *  *  *  *  * \n",
      " *  *  *  *  * \n"
     ]
    }
   ],
   "source": [
    "s  = int(input())\n",
    "for i in range(s):\n",
    "    print(' * '*s)"
   ]
  },
  {
   "cell_type": "code",
   "execution_count": 25,
   "id": "bcde0005",
   "metadata": {},
   "outputs": [
    {
     "name": "stdout",
     "output_type": "stream",
     "text": [
      "* * * * * \n",
      "* * * * * \n",
      "* * * * * \n",
      "* * * * * \n",
      "* * * * * \n"
     ]
    }
   ],
   "source": [
    "s = 5\n",
    "# for i in range(s):\n",
    "for j in range(s):\n",
    "    \n",
    "    print('* '*(s))\n",
    "# print()"
   ]
  },
  {
   "cell_type": "code",
   "execution_count": 2,
   "id": "b469c4a6",
   "metadata": {},
   "outputs": [
    {
     "name": "stdout",
     "output_type": "stream",
     "text": [
      "* * * * * \n",
      "* * * * * \n",
      "* * * * * \n",
      "* * * * * \n",
      "* * * * * \n"
     ]
    }
   ],
   "source": [
    "s = 5\n",
    "for i in range(s):\n",
    "    for i in range(2*s):\n",
    "        if (i+1)%2 !=0:\n",
    "            print('*',end =' ')\n",
    "        else :\n",
    "            print('' ,end='')\n",
    "    print()"
   ]
  },
  {
   "cell_type": "code",
   "execution_count": 106,
   "id": "7fc30838",
   "metadata": {},
   "outputs": [
    {
     "name": "stdout",
     "output_type": "stream",
     "text": [
      "\n",
      "* \n",
      "* * \n",
      "*    *\n",
      "*     *\n",
      "* * * * * * \n"
     ]
    }
   ],
   "source": [
    "for i in range(s+1):\n",
    "    if i<= 2:\n",
    "        print('* '*i)\n",
    "    elif i==s:\n",
    "        print('* '*(s+1))\n",
    "    else :\n",
    "        print('* ',' '*(i-1),'*')"
   ]
  },
  {
   "cell_type": "code",
   "execution_count": 132,
   "id": "093c7894",
   "metadata": {},
   "outputs": [
    {
     "name": "stdout",
     "output_type": "stream",
     "text": [
      "* \n",
      "* * \n",
      "* * * \n",
      "* * * * \n",
      "* * * * * \n"
     ]
    }
   ],
   "source": [
    "for i in range(1,s+1):\n",
    "    print('* '*i)\n",
    "    \n"
   ]
  },
  {
   "cell_type": "code",
   "execution_count": 180,
   "id": "dfc5b8e5",
   "metadata": {},
   "outputs": [
    {
     "name": "stdout",
     "output_type": "stream",
     "text": [
      "* \n",
      "* * \n",
      "*  *\n",
      "*   *\n",
      "*    *\n",
      "* * * * \n"
     ]
    }
   ],
   "source": [
    "s= 5\n",
    "for i in range(1,s+1):\n",
    "    if i <=2 :\n",
    "        print('* '*i)\n",
    "    elif i >2 and i<(s-1):\n",
    "        for i in range(1,s-1):\n",
    "            print('*' ,' '*(i-1),'*')\n",
    "    elif i == s :\n",
    "        print('* '*(s-1))"
   ]
  },
  {
   "cell_type": "code",
   "execution_count": 190,
   "id": "7bf97c0b",
   "metadata": {},
   "outputs": [
    {
     "name": "stdout",
     "output_type": "stream",
     "text": [
      "******\n"
     ]
    }
   ],
   "source": [
    "width = 6\n",
    "print('*'.center(width,'*') )"
   ]
  },
  {
   "cell_type": "code",
   "execution_count": 12,
   "id": "5f875520",
   "metadata": {},
   "outputs": [
    {
     "name": "stdout",
     "output_type": "stream",
     "text": [
      "* * * * \n",
      "* * * \n",
      "* * \n",
      "* \n"
     ]
    }
   ],
   "source": [
    "s= 4\n",
    "for i in range(1,s+1):\n",
    "    print('* '*(s+1-i))"
   ]
  },
  {
   "cell_type": "code",
   "execution_count": 24,
   "id": "5c2e5087",
   "metadata": {},
   "outputs": [
    {
     "name": "stdout",
     "output_type": "stream",
     "text": [
      "* * * * \n",
      "* * * \n",
      "* * \n",
      "* \n"
     ]
    }
   ],
   "source": [
    "for i in range(s):\n",
    "    for j in range(s - i):\n",
    "         print('*', end=' ')\n",
    "    print()"
   ]
  },
  {
   "cell_type": "code",
   "execution_count": 35,
   "id": "3ddb1e76",
   "metadata": {},
   "outputs": [
    {
     "name": "stdout",
     "output_type": "stream",
     "text": [
      "1540\n"
     ]
    }
   ],
   "source": [
    "j =0\n",
    "for i in range (1,s+1):\n",
    "    j = j +i\n",
    "print(j)"
   ]
  },
  {
   "cell_type": "code",
   "execution_count": 3,
   "id": "72819879",
   "metadata": {},
   "outputs": [
    {
     "name": "stdout",
     "output_type": "stream",
     "text": [
      "15\n"
     ]
    }
   ],
   "source": [
    "def suma(s):\n",
    "    ans = 0\n",
    "    #Write your code here to calculate and return sum of n number.\n",
    "    for i in range (1,s+1):\n",
    "        ans = ans +i\n",
    "    return ans\n",
    "\n",
    "print(suma(s))"
   ]
  },
  {
   "cell_type": "code",
   "execution_count": 10,
   "id": "0721c3c0",
   "metadata": {},
   "outputs": [
    {
     "name": "stdout",
     "output_type": "stream",
     "text": [
      "120\n"
     ]
    }
   ],
   "source": [
    "# factorial\n",
    "ans= 1\n",
    "m =5\n",
    "for i in range(5):\n",
    "    ans = ans*(m-i)\n",
    "print(ans)"
   ]
  },
  {
   "cell_type": "code",
   "execution_count": 22,
   "id": "03613f58",
   "metadata": {},
   "outputs": [
    {
     "data": {
      "text/plain": [
       "5040"
      ]
     },
     "execution_count": 22,
     "metadata": {},
     "output_type": "execute_result"
    }
   ],
   "source": [
    "def factorial(x):\n",
    "    \"\"\"This is a recursive function\n",
    "    to find the factorial of an integer\"\"\"\n",
    "\n",
    "    if x == 1:\n",
    "        return 1\n",
    "    else:\n",
    "        # recursive call to the function\n",
    "        return (x * factorial(x-1))\n",
    "\n",
    "\n",
    "# change the value for a different result\n",
    "num = 7\n",
    "\n",
    "factorial(num)\n"
   ]
  },
  {
   "cell_type": "code",
   "execution_count": 50,
   "id": "0d66ef72",
   "metadata": {},
   "outputs": [
    {
     "name": "stdout",
     "output_type": "stream",
     "text": [
      "720\n"
     ]
    }
   ],
   "source": [
    "x= 1   ## using for loop\n",
    "m=6\n",
    "for i in range(1,m+1):\n",
    "    y = (m+1-i)*x\n",
    "    x = y\n",
    "print(y)"
   ]
  },
  {
   "cell_type": "code",
   "execution_count": null,
   "id": "94250a1e",
   "metadata": {},
   "outputs": [],
   "source": [
    "# fibonacci series"
   ]
  },
  {
   "cell_type": "code",
   "execution_count": 52,
   "id": "576f9f3f",
   "metadata": {},
   "outputs": [],
   "source": [
    "def fibonacci(n):\n",
    "    a = 0 \n",
    "    b = 1\n",
    "    if n ==1 :\n",
    "        print(a)\n",
    "    else:\n",
    "        print(a)\n",
    "        print(b)\n",
    "        for i in range(2,n) :\n",
    "            c = a+b\n",
    "            a=b\n",
    "            b= c\n",
    "            print(c)"
   ]
  },
  {
   "cell_type": "code",
   "execution_count": 55,
   "id": "f9b47dc2",
   "metadata": {},
   "outputs": [
    {
     "name": "stdout",
     "output_type": "stream",
     "text": [
      "0\n",
      "1\n",
      "1\n",
      "2\n",
      "3\n",
      "5\n",
      "8\n"
     ]
    }
   ],
   "source": [
    "fibonacci(7)  #  How many terms in the series"
   ]
  },
  {
   "cell_type": "code",
   "execution_count": null,
   "id": "9f84a91d",
   "metadata": {},
   "outputs": [],
   "source": []
  },
  {
   "cell_type": "code",
   "execution_count": null,
   "id": "1579315a",
   "metadata": {},
   "outputs": [],
   "source": []
  },
  {
   "cell_type": "code",
   "execution_count": 54,
   "id": "c34cde3a",
   "metadata": {},
   "outputs": [
    {
     "name": "stdout",
     "output_type": "stream",
     "text": [
      "1 2 3 4 6 12 "
     ]
    }
   ],
   "source": [
    "for i in range (1,12+1):\n",
    "    if 12%i ==0:\n",
    "        print(i,end =' ')"
   ]
  },
  {
   "cell_type": "code",
   "execution_count": 58,
   "id": "0470c47b",
   "metadata": {},
   "outputs": [
    {
     "ename": "SyntaxError",
     "evalue": "invalid syntax. Maybe you meant '==' or ':=' instead of '='? (3328890407.py, line 4)",
     "output_type": "error",
     "traceback": [
      "\u001b[1;36m  Input \u001b[1;32mIn [58]\u001b[1;36m\u001b[0m\n\u001b[1;33m    if  ans = True\u001b[0m\n\u001b[1;37m        ^\u001b[0m\n\u001b[1;31mSyntaxError\u001b[0m\u001b[1;31m:\u001b[0m invalid syntax. Maybe you meant '==' or ':=' instead of '='?\n"
     ]
    }
   ],
   "source": [
    "n=5\n",
    "for i in range(1,n+1):\n",
    "    if (i == 1 or i== n ) :\n",
    "        if \n",
    "        ans = True\n",
    "    else :\n",
    "        ans = False\n",
    "print(ans)"
   ]
  },
  {
   "cell_type": "code",
   "execution_count": 64,
   "id": "9be338b0",
   "metadata": {},
   "outputs": [
    {
     "data": {
      "text/plain": [
       "True"
      ]
     },
     "execution_count": 64,
     "metadata": {},
     "output_type": "execute_result"
    }
   ],
   "source": [
    "import sympy   #Check prime number \n",
    "n =1000\n",
    "sympy.isprime(2)"
   ]
  },
  {
   "cell_type": "code",
   "execution_count": 65,
   "id": "9354a216",
   "metadata": {},
   "outputs": [],
   "source": [
    "#    Python Code: \n",
    "def cheackPrime(n):  \n",
    "    if(n<2):\n",
    "        return False\n",
    "    else:\n",
    "        for i in range(2,n):\n",
    "            if(n%i==0):\n",
    "                return False\n",
    "                break\n",
    "        else:\n",
    "            return True"
   ]
  },
  {
   "cell_type": "code",
   "execution_count": 67,
   "id": "87357bae",
   "metadata": {},
   "outputs": [
    {
     "data": {
      "text/plain": [
       "False"
      ]
     },
     "execution_count": 67,
     "metadata": {},
     "output_type": "execute_result"
    }
   ],
   "source": [
    "cheackPrime(10)"
   ]
  },
  {
   "cell_type": "code",
   "execution_count": 71,
   "id": "bc9e45ff",
   "metadata": {},
   "outputs": [
    {
     "data": {
      "text/plain": [
       "299"
      ]
     },
     "execution_count": 71,
     "metadata": {},
     "output_type": "execute_result"
    }
   ],
   "source": [
    "lt= [ ]\n",
    "a =  0\n",
    "b =  0\n",
    "for i in range(2 ,25) :\n",
    "    a = a + i\n",
    "    b = b + a\n",
    "a"
   ]
  },
  {
   "cell_type": "code",
   "execution_count": 72,
   "id": "b3e4aea4",
   "metadata": {},
   "outputs": [
    {
     "name": "stdout",
     "output_type": "stream",
     "text": [
      "[1, 2, 3, 4, 5, 6, 7, 8, 9, 10, 11, 12, 13, 14, 15, 16, 17, 18, 19, 20, 21, 22, 23]\n"
     ]
    }
   ],
   "source": [
    "lt = []\n",
    "for i in range(1,24):\n",
    "#     print(i)\n",
    "    lt.append(i)\n",
    "    \n",
    "print(lt)"
   ]
  },
  {
   "cell_type": "code",
   "execution_count": null,
   "id": "49296303",
   "metadata": {},
   "outputs": [],
   "source": []
  },
  {
   "cell_type": "code",
   "execution_count": 79,
   "id": "7f65f3d2",
   "metadata": {},
   "outputs": [
    {
     "data": {
      "text/plain": [
       "(1, 1, 2, 3, 5, 8, 13, 21, 34, 55, 89, 144)"
      ]
     },
     "execution_count": 79,
     "metadata": {},
     "output_type": "execute_result"
    }
   ],
   "source": [
    "1, 1, 2, 3, 5, 8, 13, 21, 34, 55, 89, 144"
   ]
  },
  {
   "cell_type": "code",
   "execution_count": 73,
   "id": "621dd804",
   "metadata": {},
   "outputs": [
    {
     "name": "stdout",
     "output_type": "stream",
     "text": [
      "1\n"
     ]
    }
   ],
   "source": [
    "#Enter Python code here and hit the Run button.sympy.ispr\n",
    "num1 = 17\n",
    "num2 = 15\n",
    "lst = []\n",
    "for i in range(1,10000):\n",
    "    if num1%i==0 and num2%i==0 :\n",
    "        lst.append(i)\n",
    "print(max(lst))"
   ]
  },
  {
   "cell_type": "code",
   "execution_count": 11,
   "id": "ca8e68f1",
   "metadata": {},
   "outputs": [],
   "source": [
    "def gcd(a, b):              # greatest common devisor\n",
    "    # gcd=math.gcd(a,b)\n",
    "    # return gcd\n",
    "    while b:\n",
    "        a,b=b,a%b\n",
    "    return a "
   ]
  },
  {
   "cell_type": "code",
   "execution_count": 12,
   "id": "2fef3d14",
   "metadata": {},
   "outputs": [
    {
     "data": {
      "text/plain": [
       "1"
      ]
     },
     "execution_count": 12,
     "metadata": {},
     "output_type": "execute_result"
    }
   ],
   "source": [
    "gcd(15, 17)"
   ]
  },
  {
   "cell_type": "code",
   "execution_count": 75,
   "id": "251a14c1",
   "metadata": {},
   "outputs": [
    {
     "data": {
      "text/plain": [
       "'Welcome To The World Of Geeks'"
      ]
     },
     "execution_count": 75,
     "metadata": {},
     "output_type": "execute_result"
    }
   ],
   "source": [
    "s = \"are you enjoying programming\"\n",
    "s = \"welcome to the world of geeks\"\n",
    "spt = s.split(\" \")\n",
    "lt2 = []\n",
    "for i in spt :\n",
    "    lt2.append(i.title())\n",
    "' '.join(lt2)"
   ]
  },
  {
   "cell_type": "code",
   "execution_count": 85,
   "id": "9173ddb9",
   "metadata": {},
   "outputs": [
    {
     "name": "stdout",
     "output_type": "stream",
     "text": [
      " Welcome To The World Of Geeks\n"
     ]
    }
   ],
   "source": [
    "y =\"\"\n",
    "for i in spt :\n",
    "    x = y +\" \"+ i.capitalize()\n",
    "    y =x\n",
    "print(x)"
   ]
  },
  {
   "cell_type": "code",
   "execution_count": 97,
   "id": "16cb32d3",
   "metadata": {},
   "outputs": [
    {
     "name": "stdout",
     "output_type": "stream",
     "text": [
      "Welcome To The World Of Geeks\n"
     ]
    },
    {
     "data": {
      "text/plain": [
       "6"
      ]
     },
     "execution_count": 97,
     "metadata": {},
     "output_type": "execute_result"
    }
   ],
   "source": [
    "print(s.title())  # \n",
    "len(s.split(\" \"))   # This will became alfo one one of the method"
   ]
  },
  {
   "cell_type": "code",
   "execution_count": 86,
   "id": "9eacc673",
   "metadata": {},
   "outputs": [],
   "source": [
    "def capCount(s):\n",
    "    \n",
    "    # Code here to print after captilizing first letter of all string\n",
    "    # and then print the count of number of words\n",
    "    # Your code should provide a new line after printing\n",
    "    spt = s.split(\" \")\n",
    "    lt2 = []\n",
    "    for i in spt :\n",
    "        lt2.append(i.title())\n",
    "    x = ' '.join(lt2)\n",
    "    y = len(lt2) \n",
    "    print(x ,'\\n', str(y))\n",
    "\n"
   ]
  },
  {
   "cell_type": "code",
   "execution_count": 87,
   "id": "da8ae302",
   "metadata": {},
   "outputs": [],
   "source": [
    "def capCount(s):\n",
    "    \n",
    "    # Code here to print after captilizing first letter of all string\n",
    "    # and then print the count of number of words\n",
    "    # Your code should provide a new line after printing\n",
    "    spt = s.split(\" \")\n",
    "    lt2 = []\n",
    "    for i in spt :\n",
    "        lt2.append(i.title())\n",
    "    x = ' '.join(lt2)\n",
    "    y = len(lt2) \n",
    "    print(x)\n",
    "    print(y)"
   ]
  },
  {
   "cell_type": "code",
   "execution_count": 88,
   "id": "89db5674",
   "metadata": {},
   "outputs": [
    {
     "name": "stdout",
     "output_type": "stream",
     "text": [
      "Welcome To The World Of Geeks\n",
      "6\n"
     ]
    }
   ],
   "source": [
    "capCount(s)"
   ]
  },
  {
   "cell_type": "code",
   "execution_count": 89,
   "id": "d5056ded",
   "metadata": {},
   "outputs": [],
   "source": [
    "def capCoun1t(s):\n",
    "   \n",
    "   # Code here to print after captilizing first letter of all string\n",
    "       print(s.title())\n",
    "   \n",
    "  \n",
    "   # and then print the count of number of words\n",
    "       print(len(s.split()))"
   ]
  },
  {
   "cell_type": "code",
   "execution_count": 95,
   "id": "125bd669",
   "metadata": {},
   "outputs": [
    {
     "data": {
      "text/plain": [
       "6"
      ]
     },
     "execution_count": 95,
     "metadata": {},
     "output_type": "execute_result"
    }
   ],
   "source": []
  },
  {
   "cell_type": "code",
   "execution_count": 112,
   "id": "87f204f3",
   "metadata": {},
   "outputs": [
    {
     "ename": "IndexError",
     "evalue": "list index out of range",
     "output_type": "error",
     "traceback": [
      "\u001b[1;31m---------------------------------------------------------------------------\u001b[0m",
      "\u001b[1;31mIndexError\u001b[0m                                Traceback (most recent call last)",
      "Input \u001b[1;32mIn [112]\u001b[0m, in \u001b[0;36m<module>\u001b[1;34m\u001b[0m\n\u001b[0;32m      4\u001b[0m \u001b[38;5;28;01mfor\u001b[39;00m i \u001b[38;5;129;01min\u001b[39;00m lt0:\n\u001b[0;32m      5\u001b[0m     lt1 \u001b[38;5;241m=\u001b[39m[]\n\u001b[1;32m----> 6\u001b[0m     lt1\u001b[38;5;241m.\u001b[39mappend(\u001b[43mlt0\u001b[49m\u001b[43m[\u001b[49m\u001b[43mi\u001b[49m\u001b[43m]\u001b[49m)\n\u001b[0;32m      7\u001b[0m     lt1\u001b[38;5;241m.\u001b[39mappend(lt0[i\u001b[38;5;241m-\u001b[39m\u001b[38;5;241m1\u001b[39m])\n\u001b[0;32m      8\u001b[0m \u001b[38;5;66;03m#     print(lt1)\u001b[39;00m\n",
      "\u001b[1;31mIndexError\u001b[0m: list index out of range"
     ]
    }
   ],
   "source": [
    "lt1 =[]\n",
    "lt2 = []\n",
    "lt0 = list(range (1,10))\n",
    "for i in lt0:\n",
    "    lt1 =[]\n",
    "    lt1.append(lt0[i])\n",
    "    lt1.append(lt0[i-1])\n",
    "#     print(lt1)\n",
    "    \n",
    "    x =sum(lt1)\n",
    "    lt2.append(x)\n",
    "print(lt2)\n",
    "#     i = i+1"
   ]
  },
  {
   "cell_type": "code",
   "execution_count": 129,
   "id": "1e02bc2a",
   "metadata": {},
   "outputs": [
    {
     "name": "stdout",
     "output_type": "stream",
     "text": [
      "[3, 5, 7, 9, 11, 13, 15, 17, 19]\n"
     ]
    }
   ],
   "source": [
    "lt1 =[]\n",
    "lt2 = []\n",
    "lt0 = list(range (1,10+1))\n",
    "for i in lt0:\n",
    "    if i < 10 :\n",
    "        lt1 =[]\n",
    "        lt1.append(lt0[i-1])\n",
    "        lt1.append(lt0[i])\n",
    "#     break \n",
    "        \n",
    "#     print(lt1)\n",
    "    \n",
    "        x =sum(lt1)\n",
    "        lt2.append(x)\n",
    "print(lt2)\n",
    "#     i = i+1"
   ]
  },
  {
   "cell_type": "code",
   "execution_count": 131,
   "id": "df6d4224",
   "metadata": {},
   "outputs": [
    {
     "name": "stdout",
     "output_type": "stream",
     "text": [
      "('baz', 3)\n",
      "('bar', 2)\n",
      "('foo', 1)\n",
      "Done.\n"
     ]
    }
   ],
   "source": [
    "d = {'foo': 1, 'bar': 2, 'baz': 3}\n",
    "\n",
    "while len(d) > 0:\n",
    "\n",
    "        print(d.popitem())\n",
    "\n",
    "print('Done.')"
   ]
  },
  {
   "cell_type": "code",
   "execution_count": 148,
   "id": "f81fa025",
   "metadata": {},
   "outputs": [
    {
     "name": "stdout",
     "output_type": "stream",
     "text": [
      "10 Chair\n",
      "10 Table\n",
      "20 Chair\n",
      "20 Table\n"
     ]
    }
   ],
   "source": [
    "numbers = [10, 20]\n",
    "\n",
    "items = [\"Chair\", \"Table\"]\n",
    "\n",
    " \n",
    "\n",
    "for x in numbers:\n",
    "\n",
    "      for y in items:\n",
    "    \n",
    "          print(x, y)\n"
   ]
  },
  {
   "cell_type": "code",
   "execution_count": 10,
   "id": "14dcf779",
   "metadata": {},
   "outputs": [
    {
     "name": "stdout",
     "output_type": "stream",
     "text": [
      "11\n",
      "13\n"
     ]
    }
   ],
   "source": [
    "for num in range(10, 14):\n",
    "    for i in range(2, num):\n",
    "        if num%i == 1:\n",
    "            print(num)\n",
    "        break\n"
   ]
  },
  {
   "cell_type": "code",
   "execution_count": 100,
   "id": "e465e29e",
   "metadata": {},
   "outputs": [
    {
     "name": "stdout",
     "output_type": "stream",
     "text": [
      "0 10 "
     ]
    }
   ],
   "source": [
    "s = 'geeks for geeks' # Code is woriking\n",
    "sub = 'geeks'\n",
    "i = 0\n",
    "lst = []\n",
    "for i in range(len(s)-len(sub)+1):\n",
    "    lst.append(s.index(sub,i,len(s)))\n",
    "for j in set(lst):\n",
    "    print(j,end = ' ')"
   ]
  },
  {
   "cell_type": "code",
   "execution_count": 102,
   "id": "6d9a35a6",
   "metadata": {},
   "outputs": [
    {
     "data": {
      "text/plain": [
       "0"
      ]
     },
     "execution_count": 102,
     "metadata": {},
     "output_type": "execute_result"
    }
   ],
   "source": [
    "par = s.find(sub)\n",
    "while par >0 :\n",
    "    print(par)\n",
    "    par = s.find(par,par+1)"
   ]
  },
  {
   "cell_type": "code",
   "execution_count": 49,
   "id": "ef00516b",
   "metadata": {},
   "outputs": [
    {
     "name": "stdout",
     "output_type": "stream",
     "text": [
      "skeeg rof skeeg\n"
     ]
    }
   ],
   "source": [
    "n_s = s[::-1]\n",
    "print(n_s)\n"
   ]
  },
  {
   "cell_type": "code",
   "execution_count": 62,
   "id": "7492480b",
   "metadata": {},
   "outputs": [
    {
     "name": "stdout",
     "output_type": "stream",
     "text": [
      "paliendrom\n"
     ]
    }
   ],
   "source": [
    "s = 'rotaTor'   # Paliendrom code is working\n",
    "s1 = s.lower()\n",
    "s2 = s1[::-1]\n",
    "if s2 == s1 :\n",
    "    print('paliendrom')\n",
    "else:\n",
    "    print('Not a paliendrom')\n",
    "    "
   ]
  },
  {
   "cell_type": "code",
   "execution_count": 83,
   "id": "4d7f7a20",
   "metadata": {},
   "outputs": [
    {
     "name": "stdout",
     "output_type": "stream",
     "text": [
      "-1\n",
      "-1\n"
     ]
    }
   ],
   "source": [
    "def patern(s,p):\n",
    "    sub = p\n",
    "    i = 0\n",
    "    lst = []\n",
    "    for i in range(len(s)-len(sub)+1):\n",
    "        lst.append(s.find(sub,i,len(s)))\n",
    "    for j in set(lst):\n",
    "        j\n",
    "    return j\n",
    "p = sub    \n",
    "print(patern(s,p))\n",
    "\n",
    "# Same COde\n",
    "def fun(s,sub):\n",
    "    return s.find(sub)\n",
    "print(fun(s,sub))"
   ]
  },
  {
   "cell_type": "code",
   "execution_count": 84,
   "id": "29089e99",
   "metadata": {},
   "outputs": [
    {
     "name": "stdout",
     "output_type": "stream",
     "text": [
      "-1\n"
     ]
    }
   ],
   "source": [
    "def fun(s,sub):\n",
    "    return s.find(sub)\n",
    "print(fun(s,sub))\n",
    "    "
   ]
  },
  {
   "cell_type": "code",
   "execution_count": 88,
   "id": "d052a601",
   "metadata": {},
   "outputs": [
    {
     "data": {
      "text/plain": [
       "'ell'"
      ]
     },
     "execution_count": 88,
     "metadata": {},
     "output_type": "execute_result"
    }
   ],
   "source": [
    "s = 'Hello'\n",
    "s[1:len(s)-1:1]"
   ]
  },
  {
   "cell_type": "code",
   "execution_count": 126,
   "id": "60177075",
   "metadata": {},
   "outputs": [
    {
     "name": "stdout",
     "output_type": "stream",
     "text": [
      "Hello\n",
      "HELLO\n"
     ]
    }
   ],
   "source": [
    "s = \"hello\"\n",
    "def up_cap(s):\n",
    "    x = s.title()\n",
    "    y = s.upper()\n",
    "    print(x+'\\n'+y)\n",
    "up_cap(s)"
   ]
  },
  {
   "cell_type": "code",
   "execution_count": 140,
   "id": "22c110d2",
   "metadata": {},
   "outputs": [],
   "source": [
    "#  Input:\n",
    "c1 = 'a'\n",
    "c2 = 'z'\n",
    "def alphabets(c1,c2):\n",
    "    for i in range(ord(c1),ord(c2)+1,1):\n",
    "        print(chr(i),end =' ')"
   ]
  },
  {
   "cell_type": "code",
   "execution_count": 141,
   "id": "9bbf206c",
   "metadata": {},
   "outputs": [
    {
     "name": "stdout",
     "output_type": "stream",
     "text": [
      "a b c d e f g h i j k l m n o p q r s t u v w x y z "
     ]
    }
   ],
   "source": [
    "alphabets(c1,c2)"
   ]
  },
  {
   "cell_type": "code",
   "execution_count": 147,
   "id": "928273b3",
   "metadata": {},
   "outputs": [
    {
     "data": {
      "text/plain": [
       "'s'"
      ]
     },
     "execution_count": 147,
     "metadata": {},
     "output_type": "execute_result"
    }
   ],
   "source": [
    "max(\"geeksforgeeks\")"
   ]
  },
  {
   "cell_type": "code",
   "execution_count": 152,
   "id": "1c58b888",
   "metadata": {},
   "outputs": [
    {
     "data": {
      "text/plain": [
       "'hellofsf'"
      ]
     },
     "execution_count": 152,
     "metadata": {},
     "output_type": "execute_result"
    }
   ],
   "source": [
    "s1='hello' \n",
    "s2 = 'fsf'\n",
    "s1.__add__(s2)"
   ]
  },
  {
   "cell_type": "code",
   "execution_count": 153,
   "id": "f0986bf2",
   "metadata": {},
   "outputs": [
    {
     "name": "stdout",
     "output_type": "stream",
     "text": [
      "c\n"
     ]
    }
   ],
   "source": [
    "print(chr(ord('b')+1))"
   ]
  },
  {
   "cell_type": "code",
   "execution_count": 156,
   "id": "02a21c3f",
   "metadata": {},
   "outputs": [
    {
     "name": "stdout",
     "output_type": "stream",
     "text": [
      "['g', 'ksforgeeks']\n"
     ]
    }
   ],
   "source": [
    "print('geeksforgeeks'.split('ee',1))"
   ]
  },
  {
   "cell_type": "code",
   "execution_count": 157,
   "id": "5a5f35b2",
   "metadata": {},
   "outputs": [
    {
     "ename": "TypeError",
     "evalue": "'float' object is not iterable",
     "output_type": "error",
     "traceback": [
      "\u001b[1;31m---------------------------------------------------------------------------\u001b[0m",
      "\u001b[1;31mTypeError\u001b[0m                                 Traceback (most recent call last)",
      "Input \u001b[1;32mIn [157]\u001b[0m, in \u001b[0;36m<module>\u001b[1;34m\u001b[0m\n\u001b[0;32m      1\u001b[0m t\u001b[38;5;241m=\u001b[39m\u001b[38;5;241m32.00\u001b[39m\n\u001b[1;32m----> 3\u001b[0m [\u001b[38;5;28mround\u001b[39m((x\u001b[38;5;241m-\u001b[39m\u001b[38;5;241m32\u001b[39m)\u001b[38;5;241m*\u001b[39m\u001b[38;5;241m5\u001b[39m\u001b[38;5;241m/\u001b[39m\u001b[38;5;241m9\u001b[39m) \u001b[38;5;28;01mfor\u001b[39;00m x \u001b[38;5;129;01min\u001b[39;00m t]\n",
      "\u001b[1;31mTypeError\u001b[0m: 'float' object is not iterable"
     ]
    }
   ],
   "source": [
    "t=32.00\n",
    "\n",
    "[round((x-32)*5/9) for x in t]"
   ]
  },
  {
   "cell_type": "code",
   "execution_count": 158,
   "id": "6213ff64",
   "metadata": {},
   "outputs": [
    {
     "ename": "ValueError",
     "evalue": "too many values to unpack (expected 2)",
     "output_type": "error",
     "traceback": [
      "\u001b[1;31m---------------------------------------------------------------------------\u001b[0m",
      "\u001b[1;31mValueError\u001b[0m                                Traceback (most recent call last)",
      "Input \u001b[1;32mIn [158]\u001b[0m, in \u001b[0;36m<module>\u001b[1;34m\u001b[0m\n\u001b[1;32m----> 1\u001b[0m a,b\u001b[38;5;241m=\u001b[39m\u001b[38;5;241m1\u001b[39m,\u001b[38;5;241m2\u001b[39m,\u001b[38;5;241m3\u001b[39m\n",
      "\u001b[1;31mValueError\u001b[0m: too many values to unpack (expected 2)"
     ]
    }
   ],
   "source": [
    "a,b=1,2,3"
   ]
  },
  {
   "cell_type": "code",
   "execution_count": 159,
   "id": "d61c5b57",
   "metadata": {},
   "outputs": [
    {
     "data": {
      "text/plain": [
       "{4, 5}"
      ]
     },
     "execution_count": 159,
     "metadata": {},
     "output_type": "execute_result"
    }
   ],
   "source": [
    "a={4,5,6}\n",
    "b={2,8,6}\n",
    "a-b"
   ]
  },
  {
   "cell_type": "code",
   "execution_count": null,
   "id": "a8c18274",
   "metadata": {},
   "outputs": [],
   "source": []
  }
 ],
 "metadata": {
  "kernelspec": {
   "display_name": "Python 3 (ipykernel)",
   "language": "python",
   "name": "python3"
  },
  "language_info": {
   "codemirror_mode": {
    "name": "ipython",
    "version": 3
   },
   "file_extension": ".py",
   "mimetype": "text/x-python",
   "name": "python",
   "nbconvert_exporter": "python",
   "pygments_lexer": "ipython3",
   "version": "3.10.2"
  }
 },
 "nbformat": 4,
 "nbformat_minor": 5
}
