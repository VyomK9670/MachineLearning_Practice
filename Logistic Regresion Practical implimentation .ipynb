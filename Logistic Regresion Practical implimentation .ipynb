{
 "cells": [
  {
   "cell_type": "markdown",
   "id": "6def0321",
   "metadata": {},
   "source": [
    "# Day[5]  Logistic Regresson Implimentation"
   ]
  },
  {
   "cell_type": "code",
   "execution_count": null,
   "id": "a948b83a",
   "metadata": {},
   "outputs": [],
   "source": [
    "import seaborn as sns\n",
    "import pandas as pd\n",
    "import numpy as np\n",
    "import matplotlib.pyplot as plt"
   ]
  },
  {
   "cell_type": "code",
   "execution_count": null,
   "id": "dd4d95da",
   "metadata": {},
   "outputs": [],
   "source": [
    "df = sns.load_dataset('iris')"
   ]
  },
  {
   "cell_type": "code",
   "execution_count": null,
   "id": "7d3f5f33",
   "metadata": {},
   "outputs": [],
   "source": [
    "df"
   ]
  },
  {
   "cell_type": "code",
   "execution_count": null,
   "id": "cb1c1e4b",
   "metadata": {},
   "outputs": [],
   "source": [
    "set(df.species )"
   ]
  },
  {
   "cell_type": "code",
   "execution_count": null,
   "id": "e9666fd8",
   "metadata": {},
   "outputs": [],
   "source": [
    "### How many type of classified variable is exist"
   ]
  },
  {
   "cell_type": "code",
   "execution_count": null,
   "id": "2f46a0d7",
   "metadata": {},
   "outputs": [],
   "source": [
    "df['species'].unique()  "
   ]
  },
  {
   "cell_type": "code",
   "execution_count": null,
   "id": "f38aea0d",
   "metadata": {},
   "outputs": [],
   "source": [
    "df.isnull().sum()/df.shape[0]*100"
   ]
  },
  {
   "cell_type": "code",
   "execution_count": null,
   "id": "d343bf7b",
   "metadata": {},
   "outputs": [],
   "source": [
    "df = df[  df['species']!='setosa' ]    # It will remove setosa"
   ]
  },
  {
   "cell_type": "code",
   "execution_count": null,
   "id": "02304a31",
   "metadata": {},
   "outputs": [],
   "source": [
    "df.head()"
   ]
  },
  {
   "cell_type": "code",
   "execution_count": null,
   "id": "13d96dac",
   "metadata": {},
   "outputs": [],
   "source": [
    "df['species'] = df['species'].map({'versicolor' : 0,'virginica':1 })"
   ]
  },
  {
   "cell_type": "code",
   "execution_count": null,
   "id": "af8f9d84",
   "metadata": {},
   "outputs": [],
   "source": [
    "df"
   ]
  },
  {
   "cell_type": "code",
   "execution_count": null,
   "id": "60bd910f",
   "metadata": {},
   "outputs": [],
   "source": [
    "## Now we will devide data set into independednt[X] and dependent featres[Y] "
   ]
  },
  {
   "cell_type": "code",
   "execution_count": null,
   "id": "18b124b8",
   "metadata": {},
   "outputs": [],
   "source": [
    "Y = df['species']   #   df.iloc[:,-1] # Dependent Feature "
   ]
  },
  {
   "cell_type": "code",
   "execution_count": null,
   "id": "e80ff0ca",
   "metadata": {},
   "outputs": [],
   "source": [
    "X = df.drop('species' , axis =1)  #  can be done by --> df.iloc[:,:,-1] select all column exept last one\n",
    "X                                 # independent feature "
   ]
  },
  {
   "cell_type": "code",
   "execution_count": null,
   "id": "92a0afcd",
   "metadata": {},
   "outputs": [],
   "source": [
    "from sklearn.model_selection import train_test_split"
   ]
  },
  {
   "cell_type": "code",
   "execution_count": null,
   "id": "1d381f9e",
   "metadata": {},
   "outputs": [],
   "source": [
    "X_train,X_test ,Y_train ,Y_test = train_test_split(X,Y,test_size=.2,random_state=42)"
   ]
  },
  {
   "cell_type": "code",
   "execution_count": null,
   "id": "172f98ad",
   "metadata": {},
   "outputs": [],
   "source": [
    "print(X_train.shape)\n",
    "print(X_test.shape)\n",
    "print(Y_train.shape)\n",
    "print(Y_test.shape)"
   ]
  },
  {
   "cell_type": "code",
   "execution_count": null,
   "id": "1ebed56b",
   "metadata": {},
   "outputs": [],
   "source": [
    "from sklearn.linear_model import LogisticRegression"
   ]
  },
  {
   "cell_type": "code",
   "execution_count": null,
   "id": "1e6a3fae",
   "metadata": {},
   "outputs": [],
   "source": [
    "Clasifier = LogisticRegression(   )"
   ]
  },
  {
   "cell_type": "code",
   "execution_count": null,
   "id": "0ace0c8b",
   "metadata": {},
   "outputs": [],
   "source": [
    "from sklearn.model_selection import GridSearchCV"
   ]
  },
  {
   "cell_type": "code",
   "execution_count": null,
   "id": "c70b629c",
   "metadata": {},
   "outputs": [],
   "source": [
    "parameter = { 'penalty':['l1','l2','elasticnet'] ,'C':[1,2,3,4,5,6,7,8,10,15,20,10,14,25,50],'max_iter' :[100,200,300]   }"
   ]
  },
  {
   "cell_type": "code",
   "execution_count": null,
   "id": "83294fc4",
   "metadata": {},
   "outputs": [],
   "source": [
    "Classifier_regress = GridSearchCV(Clasifier,param_grid=parameter,scoring='accuracy' ,cv =5 )"
   ]
  },
  {
   "cell_type": "code",
   "execution_count": null,
   "id": "fc1f8418",
   "metadata": {},
   "outputs": [],
   "source": [
    "Classifier_regress.fit(X_train,Y_train)"
   ]
  },
  {
   "cell_type": "code",
   "execution_count": null,
   "id": "13539677",
   "metadata": {},
   "outputs": [],
   "source": [
    "print(Classifier_regress.best_params_)"
   ]
  },
  {
   "cell_type": "code",
   "execution_count": null,
   "id": "f3a54241",
   "metadata": {},
   "outputs": [],
   "source": [
    "print(Classifier_regress.best_score_)"
   ]
  },
  {
   "cell_type": "markdown",
   "id": "8f8899dd",
   "metadata": {},
   "source": [
    "## ## Predcition Model ##"
   ]
  },
  {
   "cell_type": "code",
   "execution_count": null,
   "id": "f9973899",
   "metadata": {},
   "outputs": [],
   "source": [
    "Y_predict = Classifier_regress.predict(X_test)"
   ]
  },
  {
   "cell_type": "code",
   "execution_count": null,
   "id": "43883dbb",
   "metadata": {},
   "outputs": [],
   "source": [
    "from sklearn.metrics import accuracy_score ,classification_report"
   ]
  },
  {
   "cell_type": "code",
   "execution_count": null,
   "id": "6076a138",
   "metadata": {},
   "outputs": [],
   "source": [
    "Score = accuracy_score(Y_test,Y_predict) \n",
    "print(Score)"
   ]
  },
  {
   "cell_type": "code",
   "execution_count": null,
   "id": "50eae6ed",
   "metadata": {},
   "outputs": [],
   "source": [
    "print(classification_report(Y_predict,Y_test))"
   ]
  },
  {
   "cell_type": "code",
   "execution_count": null,
   "id": "61c2cd4a",
   "metadata": {},
   "outputs": [],
   "source": [
    "# sns.pairplot(df,hue = 'species')"
   ]
  },
  {
   "cell_type": "code",
   "execution_count": null,
   "id": "17f933e8",
   "metadata": {},
   "outputs": [],
   "source": [
    "X_test"
   ]
  },
  {
   "cell_type": "markdown",
   "id": "203960d4",
   "metadata": {},
   "source": [
    "### Now we try to genrate a random data set and will use for the Out-Put"
   ]
  },
  {
   "cell_type": "code",
   "execution_count": null,
   "id": "2abea841",
   "metadata": {},
   "outputs": [],
   "source": [
    "new_feature = np.random.rand(len(X_test),4)\n",
    "\n"
   ]
  },
  {
   "cell_type": "code",
   "execution_count": null,
   "id": "afd28761",
   "metadata": {},
   "outputs": [],
   "source": [
    "colum_name = X_test.keys()   # We haver extracted keys from the data frame and put some ramsom value inside and then sue the model to predict the \n",
    "                            # virginca and versicolur\n"
   ]
  },
  {
   "cell_type": "code",
   "execution_count": null,
   "id": "4dd03288",
   "metadata": {},
   "outputs": [],
   "source": [
    "X_test[colum_name] = new_feature*5\n",
    "X_test"
   ]
  },
  {
   "cell_type": "code",
   "execution_count": null,
   "id": "e6ad41d7",
   "metadata": {},
   "outputs": [],
   "source": [
    "New_predict = Classifier_regress.predict(X_test)\n",
    "New_predict"
   ]
  },
  {
   "cell_type": "code",
   "execution_count": null,
   "id": "eb255041",
   "metadata": {},
   "outputs": [],
   "source": [
    "lt = []\n",
    "for i in list(New_predict):\n",
    "    if i==0 :\n",
    "        lt.append('versicolor')\n",
    "    else:\n",
    "        lt.append('virginica')\n",
    "# lt = np.array(lt)"
   ]
  },
  {
   "cell_type": "code",
   "execution_count": null,
   "id": "4162a7aa",
   "metadata": {
    "scrolled": true
   },
   "outputs": [],
   "source": [
    "plt.plot(lt,'-*g',linewidth = 0, markersize = 10)\n",
    "\n",
    "\n",
    "plt.show()"
   ]
  },
  {
   "cell_type": "code",
   "execution_count": null,
   "id": "cce50e16",
   "metadata": {},
   "outputs": [],
   "source": []
  }
 ],
 "metadata": {
  "kernelspec": {
   "display_name": "Python 3 (ipykernel)",
   "language": "python",
   "name": "python3"
  },
  "language_info": {
   "codemirror_mode": {
    "name": "ipython",
    "version": 3
   },
   "file_extension": ".py",
   "mimetype": "text/x-python",
   "name": "python",
   "nbconvert_exporter": "python",
   "pygments_lexer": "ipython3",
   "version": "3.10.2"
  }
 },
 "nbformat": 4,
 "nbformat_minor": 5
}
