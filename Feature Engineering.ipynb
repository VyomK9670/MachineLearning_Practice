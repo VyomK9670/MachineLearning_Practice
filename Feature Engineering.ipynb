{
 "cells": [
  {
   "cell_type": "markdown",
   "id": "27a3ee95",
   "metadata": {},
   "source": [
    "## Missing Values _ Feature Engineering   "
   ]
  },
  {
   "cell_type": "markdown",
   "id": "1e8c9ae4",
   "metadata": {},
   "source": [
    "# DAY [ 1 ] mean median mode "
   ]
  },
  {
   "cell_type": "markdown",
   "id": "12e6bec8",
   "metadata": {},
   "source": [
    "### Why is data missing ?"
   ]
  },
  {
   "cell_type": "markdown",
   "id": "7a56ad84",
   "metadata": {},
   "source": []
  },
  {
   "cell_type": "markdown",
   "id": "8b3e6a22",
   "metadata": {},
   "source": [
    "#### data science Project -- DataSets should ne colleced from multiple source."
   ]
  },
  {
   "cell_type": "markdown",
   "id": "55330597",
   "metadata": {},
   "source": [
    "### Dealing with Missing Data : \n",
    "#### 1] Delete: You could simply delete the rows containing missing values.\n",
    "#### 2] Replace with summary: This is probably the most commonly used imputation technique. Summarization here is the mean, mode, or median for a respective column.\n",
    "#### 3] Random replace: You can also replace the missing values with a randomly picked value from the respective column.\n",
    "#### 4] Using predictive model: This is an advanced technique. "
   ]
  },
  {
   "cell_type": "markdown",
   "id": "9b491195",
   "metadata": {},
   "source": [
    "#### TYpe of missing data  - \n",
    "#### 1) Coutinuous type --   Timer Presenation(2.5 hr ,5.2 hr) , Clock, Hight(4.5 fit ) , age(with take as decimal formate)\n",
    "#### 2 ) Discountinous Type data -  only Integer value vill cosinsider like counting , Agee(without take as decimal formate)\n",
    "#### 3) Cotegpriacal data - \n"
   ]
  },
  {
   "cell_type": "markdown",
   "id": "64e6461a",
   "metadata": {},
   "source": [
    "#### what is misisng data - Missing completly at Random [MCAR] A variable is misisng completely at random MCAR if the probability of being missimg is the same fro all the obsevation . when data is MCAR there is absolutly no realtionship bet wenn data missing and any other value , Observe or missng , with the dataset , in other words , thos missing data points are random , There is nothing systematic going on that make data more liky missing than other."
   ]
  },
  {
   "cell_type": "code",
   "execution_count": 1,
   "id": "a54d8d7f",
   "metadata": {},
   "outputs": [],
   "source": [
    "import pandas as pd\n"
   ]
  },
  {
   "cell_type": "code",
   "execution_count": 2,
   "id": "c598b0c4",
   "metadata": {},
   "outputs": [],
   "source": [
    "df = pd.read_csv('C:\\\\Users\\V_K\\OneDrive\\Documents\\JupyterCodes\\Ml_project_3\\\\Titanic_train.csv')"
   ]
  },
  {
   "cell_type": "code",
   "execution_count": 3,
   "id": "37e5f3f1",
   "metadata": {},
   "outputs": [
    {
     "data": {
      "text/plain": [
       "PassengerId     0.000000\n",
       "Survived        0.000000\n",
       "Pclass          0.000000\n",
       "Name            0.000000\n",
       "Sex             0.000000\n",
       "Age            19.865320\n",
       "SibSp           0.000000\n",
       "Parch           0.000000\n",
       "Ticket          0.000000\n",
       "Fare            0.000000\n",
       "Cabin          77.104377\n",
       "Embarked        0.224467\n",
       "dtype: float64"
      ]
     },
     "execution_count": 3,
     "metadata": {},
     "output_type": "execute_result"
    }
   ],
   "source": [
    "df.isnull().sum()/df.shape[0]*100"
   ]
  },
  {
   "cell_type": "code",
   "execution_count": 4,
   "id": "05c225d6",
   "metadata": {},
   "outputs": [
    {
     "data": {
      "text/html": [
       "<div>\n",
       "<style scoped>\n",
       "    .dataframe tbody tr th:only-of-type {\n",
       "        vertical-align: middle;\n",
       "    }\n",
       "\n",
       "    .dataframe tbody tr th {\n",
       "        vertical-align: top;\n",
       "    }\n",
       "\n",
       "    .dataframe thead th {\n",
       "        text-align: right;\n",
       "    }\n",
       "</style>\n",
       "<table border=\"1\" class=\"dataframe\">\n",
       "  <thead>\n",
       "    <tr style=\"text-align: right;\">\n",
       "      <th></th>\n",
       "      <th>PassengerId</th>\n",
       "      <th>Survived</th>\n",
       "      <th>Pclass</th>\n",
       "      <th>Name</th>\n",
       "      <th>Sex</th>\n",
       "      <th>Age</th>\n",
       "      <th>SibSp</th>\n",
       "      <th>Parch</th>\n",
       "      <th>Ticket</th>\n",
       "      <th>Fare</th>\n",
       "      <th>Cabin</th>\n",
       "      <th>Embarked</th>\n",
       "    </tr>\n",
       "  </thead>\n",
       "  <tbody>\n",
       "    <tr>\n",
       "      <th>0</th>\n",
       "      <td>1</td>\n",
       "      <td>0</td>\n",
       "      <td>3</td>\n",
       "      <td>Braund, Mr. Owen Harris</td>\n",
       "      <td>male</td>\n",
       "      <td>22.0</td>\n",
       "      <td>1</td>\n",
       "      <td>0</td>\n",
       "      <td>A/5 21171</td>\n",
       "      <td>7.2500</td>\n",
       "      <td>NaN</td>\n",
       "      <td>S</td>\n",
       "    </tr>\n",
       "    <tr>\n",
       "      <th>1</th>\n",
       "      <td>2</td>\n",
       "      <td>1</td>\n",
       "      <td>1</td>\n",
       "      <td>Cumings, Mrs. John Bradley (Florence Briggs Th...</td>\n",
       "      <td>female</td>\n",
       "      <td>38.0</td>\n",
       "      <td>1</td>\n",
       "      <td>0</td>\n",
       "      <td>PC 17599</td>\n",
       "      <td>71.2833</td>\n",
       "      <td>C85</td>\n",
       "      <td>C</td>\n",
       "    </tr>\n",
       "    <tr>\n",
       "      <th>2</th>\n",
       "      <td>3</td>\n",
       "      <td>1</td>\n",
       "      <td>3</td>\n",
       "      <td>Heikkinen, Miss. Laina</td>\n",
       "      <td>female</td>\n",
       "      <td>26.0</td>\n",
       "      <td>0</td>\n",
       "      <td>0</td>\n",
       "      <td>STON/O2. 3101282</td>\n",
       "      <td>7.9250</td>\n",
       "      <td>NaN</td>\n",
       "      <td>S</td>\n",
       "    </tr>\n",
       "    <tr>\n",
       "      <th>3</th>\n",
       "      <td>4</td>\n",
       "      <td>1</td>\n",
       "      <td>1</td>\n",
       "      <td>Futrelle, Mrs. Jacques Heath (Lily May Peel)</td>\n",
       "      <td>female</td>\n",
       "      <td>35.0</td>\n",
       "      <td>1</td>\n",
       "      <td>0</td>\n",
       "      <td>113803</td>\n",
       "      <td>53.1000</td>\n",
       "      <td>C123</td>\n",
       "      <td>S</td>\n",
       "    </tr>\n",
       "    <tr>\n",
       "      <th>4</th>\n",
       "      <td>5</td>\n",
       "      <td>0</td>\n",
       "      <td>3</td>\n",
       "      <td>Allen, Mr. William Henry</td>\n",
       "      <td>male</td>\n",
       "      <td>35.0</td>\n",
       "      <td>0</td>\n",
       "      <td>0</td>\n",
       "      <td>373450</td>\n",
       "      <td>8.0500</td>\n",
       "      <td>NaN</td>\n",
       "      <td>S</td>\n",
       "    </tr>\n",
       "  </tbody>\n",
       "</table>\n",
       "</div>"
      ],
      "text/plain": [
       "   PassengerId  Survived  Pclass  \\\n",
       "0            1         0       3   \n",
       "1            2         1       1   \n",
       "2            3         1       3   \n",
       "3            4         1       1   \n",
       "4            5         0       3   \n",
       "\n",
       "                                                Name     Sex   Age  SibSp  \\\n",
       "0                            Braund, Mr. Owen Harris    male  22.0      1   \n",
       "1  Cumings, Mrs. John Bradley (Florence Briggs Th...  female  38.0      1   \n",
       "2                             Heikkinen, Miss. Laina  female  26.0      0   \n",
       "3       Futrelle, Mrs. Jacques Heath (Lily May Peel)  female  35.0      1   \n",
       "4                           Allen, Mr. William Henry    male  35.0      0   \n",
       "\n",
       "   Parch            Ticket     Fare Cabin Embarked  \n",
       "0      0         A/5 21171   7.2500   NaN        S  \n",
       "1      0          PC 17599  71.2833   C85        C  \n",
       "2      0  STON/O2. 3101282   7.9250   NaN        S  \n",
       "3      0            113803  53.1000  C123        S  \n",
       "4      0            373450   8.0500   NaN        S  "
      ]
     },
     "execution_count": 4,
     "metadata": {},
     "output_type": "execute_result"
    }
   ],
   "source": [
    "df.head()"
   ]
  },
  {
   "cell_type": "markdown",
   "id": "2251ca56",
   "metadata": {},
   "source": [
    "## How to check ki kon si value missing hai ?"
   ]
  },
  {
   "cell_type": "code",
   "execution_count": 5,
   "id": "0c5e08e1",
   "metadata": {},
   "outputs": [
    {
     "data": {
      "text/html": [
       "<div>\n",
       "<style scoped>\n",
       "    .dataframe tbody tr th:only-of-type {\n",
       "        vertical-align: middle;\n",
       "    }\n",
       "\n",
       "    .dataframe tbody tr th {\n",
       "        vertical-align: top;\n",
       "    }\n",
       "\n",
       "    .dataframe thead th {\n",
       "        text-align: right;\n",
       "    }\n",
       "</style>\n",
       "<table border=\"1\" class=\"dataframe\">\n",
       "  <thead>\n",
       "    <tr style=\"text-align: right;\">\n",
       "      <th></th>\n",
       "      <th>PassengerId</th>\n",
       "      <th>Survived</th>\n",
       "      <th>Pclass</th>\n",
       "      <th>Name</th>\n",
       "      <th>Sex</th>\n",
       "      <th>Age</th>\n",
       "      <th>SibSp</th>\n",
       "      <th>Parch</th>\n",
       "      <th>Ticket</th>\n",
       "      <th>Fare</th>\n",
       "      <th>Cabin</th>\n",
       "      <th>Embarked</th>\n",
       "    </tr>\n",
       "  </thead>\n",
       "  <tbody>\n",
       "    <tr>\n",
       "      <th>61</th>\n",
       "      <td>62</td>\n",
       "      <td>1</td>\n",
       "      <td>1</td>\n",
       "      <td>Icard, Miss. Amelie</td>\n",
       "      <td>female</td>\n",
       "      <td>38.0</td>\n",
       "      <td>0</td>\n",
       "      <td>0</td>\n",
       "      <td>113572</td>\n",
       "      <td>80.0</td>\n",
       "      <td>B28</td>\n",
       "      <td>NaN</td>\n",
       "    </tr>\n",
       "    <tr>\n",
       "      <th>829</th>\n",
       "      <td>830</td>\n",
       "      <td>1</td>\n",
       "      <td>1</td>\n",
       "      <td>Stone, Mrs. George Nelson (Martha Evelyn)</td>\n",
       "      <td>female</td>\n",
       "      <td>62.0</td>\n",
       "      <td>0</td>\n",
       "      <td>0</td>\n",
       "      <td>113572</td>\n",
       "      <td>80.0</td>\n",
       "      <td>B28</td>\n",
       "      <td>NaN</td>\n",
       "    </tr>\n",
       "  </tbody>\n",
       "</table>\n",
       "</div>"
      ],
      "text/plain": [
       "     PassengerId  Survived  Pclass                                       Name  \\\n",
       "61            62         1       1                        Icard, Miss. Amelie   \n",
       "829          830         1       1  Stone, Mrs. George Nelson (Martha Evelyn)   \n",
       "\n",
       "        Sex   Age  SibSp  Parch  Ticket  Fare Cabin Embarked  \n",
       "61   female  38.0      0      0  113572  80.0   B28      NaN  \n",
       "829  female  62.0      0      0  113572  80.0   B28      NaN  "
      ]
     },
     "execution_count": 5,
     "metadata": {},
     "output_type": "execute_result"
    }
   ],
   "source": [
    "df[df['Embarked'].isnull() ]"
   ]
  },
  {
   "cell_type": "markdown",
   "id": "c85037aa",
   "metadata": {},
   "source": [
    "### absolutly no realtionship bet wenn data missing and any other value , Observe or missng , with the dataset , in other words , thos missing data points are random "
   ]
  },
  {
   "cell_type": "markdown",
   "id": "55166fb1",
   "metadata": {},
   "source": [
    "### Missing Data Not at Random (MNAR) systemaic"
   ]
  },
  {
   "cell_type": "markdown",
   "id": "9fccde62",
   "metadata": {},
   "source": [
    "#### absolutly there is realtionship between data missing and any other value , Observe or missng , with the dataset , in other words , thos missing data points are random. "
   ]
  },
  {
   "cell_type": "code",
   "execution_count": 6,
   "id": "4c23e473",
   "metadata": {},
   "outputs": [],
   "source": [
    "import numpy as np\n",
    "df['cabin_null'] = np.where(df['Cabin'].isnull(),1,0) "
   ]
  },
  {
   "cell_type": "code",
   "execution_count": 7,
   "id": "5cd73c11",
   "metadata": {},
   "outputs": [
    {
     "data": {
      "text/plain": [
       "Index(['PassengerId', 'Survived', 'Pclass', 'Name', 'Sex', 'Age', 'SibSp',\n",
       "       'Parch', 'Ticket', 'Fare', 'Cabin', 'Embarked', 'cabin_null'],\n",
       "      dtype='object')"
      ]
     },
     "execution_count": 7,
     "metadata": {},
     "output_type": "execute_result"
    }
   ],
   "source": [
    "df.keys()"
   ]
  },
  {
   "cell_type": "code",
   "execution_count": 8,
   "id": "018a190b",
   "metadata": {},
   "outputs": [],
   "source": [
    "import matplotlib.pyplot as plt\n"
   ]
  },
  {
   "cell_type": "code",
   "execution_count": 9,
   "id": "62eeabd3",
   "metadata": {},
   "outputs": [
    {
     "data": {
      "text/plain": [
       "Survived\n",
       "0    0.876138\n",
       "1    0.602339\n",
       "Name: cabin_null, dtype: float64"
      ]
     },
     "execution_count": 9,
     "metadata": {},
     "output_type": "execute_result"
    }
   ],
   "source": [
    "df.groupby('Survived')['cabin_null'].mean()"
   ]
  },
  {
   "cell_type": "markdown",
   "id": "3d6df473",
   "metadata": {},
   "source": [
    "#### First Data show whos people have been survived\n",
    "#### Second line is who have been loss their life"
   ]
  },
  {
   "cell_type": "markdown",
   "id": "cfdb09a3",
   "metadata": {},
   "source": [
    "### Missing at random [MAR]"
   ]
  },
  {
   "cell_type": "markdown",
   "id": "4655791c",
   "metadata": {},
   "source": [
    "#### Men ---- Hide theie salary\n",
    "#### Women ---- Hide their age"
   ]
  },
  {
   "cell_type": "markdown",
   "id": "e00772f5",
   "metadata": {},
   "source": [
    "### Intensionaly hidden!"
   ]
  },
  {
   "cell_type": "markdown",
   "id": "afe7418d",
   "metadata": {},
   "source": [
    "#### Various way to handelling the missing the values\n",
    "#### 1 ]  mean mdesim mode\n",
    "#### 2 ]  Random Sample Impuation\n",
    "#### 3 ]  Capturing Nan Value with new feature\n",
    "#### 4 ]  End of Ditribution impuation\n",
    "#### 5 ]  Arbirary Impuation\n",
    "#### 6 ]  Frequent categorical impuation\n",
    "#### "
   ]
  },
  {
   "cell_type": "markdown",
   "id": "9d9e6183",
   "metadata": {},
   "source": [
    "### Mean/Median/Mode impuation - "
   ]
  },
  {
   "cell_type": "markdown",
   "id": "ae5a9976",
   "metadata": {},
   "source": [
    "### When to apply mean median mode method - \n",
    "#### 1 ) Means /median impuation has the assumption that the data are missing completely at random\n",
    "#### 2 ) we solve this by replacing by NAN with most frequenct occurance of variable."
   ]
  },
  {
   "cell_type": "code",
   "execution_count": 10,
   "id": "05b29aa8",
   "metadata": {},
   "outputs": [
    {
     "data": {
      "text/plain": [
       "Index(['PassengerId', 'Survived', 'Pclass', 'Name', 'Sex', 'Age', 'SibSp',\n",
       "       'Parch', 'Ticket', 'Fare', 'Cabin', 'Embarked', 'cabin_null'],\n",
       "      dtype='object')"
      ]
     },
     "execution_count": 10,
     "metadata": {},
     "output_type": "execute_result"
    }
   ],
   "source": [
    "df.keys()"
   ]
  },
  {
   "cell_type": "code",
   "execution_count": 11,
   "id": "5d58cb02",
   "metadata": {},
   "outputs": [],
   "source": [
    "df_selected = pd.read_csv('C:\\\\Users\\V_K\\OneDrive\\Documents\\JupyterCodes\\Ml_project_3\\\\Titanic_train.csv' ,usecols = ['Age' , 'Fare','Survived'])"
   ]
  },
  {
   "cell_type": "code",
   "execution_count": 12,
   "id": "d1dc2c6b",
   "metadata": {},
   "outputs": [
    {
     "data": {
      "text/plain": [
       "Index(['Survived', 'Age', 'Fare'], dtype='object')"
      ]
     },
     "execution_count": 12,
     "metadata": {},
     "output_type": "execute_result"
    }
   ],
   "source": [
    "df_selected.keys()"
   ]
  },
  {
   "cell_type": "code",
   "execution_count": 13,
   "id": "aa5b0ed7",
   "metadata": {},
   "outputs": [
    {
     "data": {
      "text/plain": [
       "Survived     0.00000\n",
       "Age         19.86532\n",
       "Fare         0.00000\n",
       "dtype: float64"
      ]
     },
     "execution_count": 13,
     "metadata": {},
     "output_type": "execute_result"
    }
   ],
   "source": [
    "df_selected.isnull().sum()/df_selected.shape[0]*100\n",
    "## or \n",
    "# df_selected.isnull().mean()*100   Both the line will same"
   ]
  },
  {
   "cell_type": "code",
   "execution_count": 14,
   "id": "8cc88a7c",
   "metadata": {},
   "outputs": [],
   "source": [
    "from sklearn.impute import SimpleImputer"
   ]
  },
  {
   "cell_type": "code",
   "execution_count": 15,
   "id": "cacb7320",
   "metadata": {},
   "outputs": [
    {
     "data": {
      "text/html": [
       "<div>\n",
       "<style scoped>\n",
       "    .dataframe tbody tr th:only-of-type {\n",
       "        vertical-align: middle;\n",
       "    }\n",
       "\n",
       "    .dataframe tbody tr th {\n",
       "        vertical-align: top;\n",
       "    }\n",
       "\n",
       "    .dataframe thead th {\n",
       "        text-align: right;\n",
       "    }\n",
       "</style>\n",
       "<table border=\"1\" class=\"dataframe\">\n",
       "  <thead>\n",
       "    <tr style=\"text-align: right;\">\n",
       "      <th></th>\n",
       "      <th>Survived</th>\n",
       "      <th>Age</th>\n",
       "      <th>Fare</th>\n",
       "    </tr>\n",
       "  </thead>\n",
       "  <tbody>\n",
       "    <tr>\n",
       "      <th>0</th>\n",
       "      <td>0.0</td>\n",
       "      <td>22.0</td>\n",
       "      <td>7.2500</td>\n",
       "    </tr>\n",
       "    <tr>\n",
       "      <th>1</th>\n",
       "      <td>1.0</td>\n",
       "      <td>38.0</td>\n",
       "      <td>71.2833</td>\n",
       "    </tr>\n",
       "    <tr>\n",
       "      <th>2</th>\n",
       "      <td>1.0</td>\n",
       "      <td>26.0</td>\n",
       "      <td>7.9250</td>\n",
       "    </tr>\n",
       "    <tr>\n",
       "      <th>3</th>\n",
       "      <td>1.0</td>\n",
       "      <td>35.0</td>\n",
       "      <td>53.1000</td>\n",
       "    </tr>\n",
       "    <tr>\n",
       "      <th>4</th>\n",
       "      <td>0.0</td>\n",
       "      <td>35.0</td>\n",
       "      <td>8.0500</td>\n",
       "    </tr>\n",
       "    <tr>\n",
       "      <th>...</th>\n",
       "      <td>...</td>\n",
       "      <td>...</td>\n",
       "      <td>...</td>\n",
       "    </tr>\n",
       "    <tr>\n",
       "      <th>886</th>\n",
       "      <td>0.0</td>\n",
       "      <td>27.0</td>\n",
       "      <td>13.0000</td>\n",
       "    </tr>\n",
       "    <tr>\n",
       "      <th>887</th>\n",
       "      <td>1.0</td>\n",
       "      <td>19.0</td>\n",
       "      <td>30.0000</td>\n",
       "    </tr>\n",
       "    <tr>\n",
       "      <th>888</th>\n",
       "      <td>0.0</td>\n",
       "      <td>28.0</td>\n",
       "      <td>23.4500</td>\n",
       "    </tr>\n",
       "    <tr>\n",
       "      <th>889</th>\n",
       "      <td>1.0</td>\n",
       "      <td>26.0</td>\n",
       "      <td>30.0000</td>\n",
       "    </tr>\n",
       "    <tr>\n",
       "      <th>890</th>\n",
       "      <td>0.0</td>\n",
       "      <td>32.0</td>\n",
       "      <td>7.7500</td>\n",
       "    </tr>\n",
       "  </tbody>\n",
       "</table>\n",
       "<p>891 rows × 3 columns</p>\n",
       "</div>"
      ],
      "text/plain": [
       "     Survived   Age     Fare\n",
       "0         0.0  22.0   7.2500\n",
       "1         1.0  38.0  71.2833\n",
       "2         1.0  26.0   7.9250\n",
       "3         1.0  35.0  53.1000\n",
       "4         0.0  35.0   8.0500\n",
       "..        ...   ...      ...\n",
       "886       0.0  27.0  13.0000\n",
       "887       1.0  19.0  30.0000\n",
       "888       0.0  28.0  23.4500\n",
       "889       1.0  26.0  30.0000\n",
       "890       0.0  32.0   7.7500\n",
       "\n",
       "[891 rows x 3 columns]"
      ]
     },
     "execution_count": 15,
     "metadata": {},
     "output_type": "execute_result"
    }
   ],
   "source": [
    "imp_out = SimpleImputer(strategy='median')\n",
    "imp_out.fit(df_selected)\n",
    "\n",
    "imp_out.statistics_\n",
    "\n",
    "X = imp_out.transform(df_selected)\n",
    "Clean_Data = pd.DataFrame(X ,columns = df_selected.keys())\n",
    "Clean_Data"
   ]
  },
  {
   "cell_type": "code",
   "execution_count": 16,
   "id": "f0e5e7c2",
   "metadata": {},
   "outputs": [
    {
     "data": {
      "text/plain": [
       "14.526497332334042"
      ]
     },
     "execution_count": 16,
     "metadata": {},
     "output_type": "execute_result"
    }
   ],
   "source": [
    "df['Age'].std()"
   ]
  },
  {
   "cell_type": "code",
   "execution_count": 17,
   "id": "a9ecf49c",
   "metadata": {},
   "outputs": [
    {
     "data": {
      "text/plain": [
       "array([ 0.    , 28.    , 14.4542])"
      ]
     },
     "execution_count": 17,
     "metadata": {},
     "output_type": "execute_result"
    }
   ],
   "source": [
    "imp_out.statistics_"
   ]
  },
  {
   "cell_type": "code",
   "execution_count": 18,
   "id": "99143f80",
   "metadata": {},
   "outputs": [],
   "source": [
    "import matplotlib.pyplot as plt"
   ]
  },
  {
   "cell_type": "code",
   "execution_count": 19,
   "id": "4deb47e3",
   "metadata": {},
   "outputs": [
    {
     "data": {
      "image/png": "[encoded data removed]",
      "text/plain": [
       "<Figure size 432x288 with 1 Axes>"
      ]
     },
     "metadata": {
      "needs_background": "light"
     },
     "output_type": "display_data"
    }
   ],
   "source": [
    "fig = plt.figure()\n",
    "ax = fig.add_subplot(111)\n",
    "df['Age'].plot(kind = 'kde' ,ax= ax ,color ='g')\n",
    "Clean_Data['Age'].plot(kind = 'kde' ,ax= ax ,color ='r')\n",
    "lines ,lables = ax.get_legend_handles_labels()\n",
    "lables = ['With out Imputation' ,'With imputation of median']\n",
    "ax.legend(lines , lables ,loc = 'best')\n",
    "plt.show()"
   ]
  },
  {
   "cell_type": "markdown",
   "id": "9ff4a292",
   "metadata": {},
   "source": [
    "#### Kernal Density Estimater  ===='kde'"
   ]
  },
  {
   "cell_type": "markdown",
   "id": "4a3b3584",
   "metadata": {},
   "source": [
    "### Plot should be move like green but due to impuation of median at the NaN value it provide red plot ,means after impuation of median\n",
    "\n",
    "### The advabtage and disdavantage of mean median impuation -  \n",
    "#### 1] easy to impliament\n",
    "#### 2] Faster way toobtain the complete data set \n",
    "### Disadvantage\n",
    "#### 1] change or distortion in the varience of data\n",
    "#### 2] It impact the co-relation"
   ]
  },
  {
   "cell_type": "markdown",
   "id": "52487d61",
   "metadata": {},
   "source": []
  },
  {
   "cell_type": "markdown",
   "id": "ea2c8ae4",
   "metadata": {},
   "source": [
    "## Random Sample impuation"
   ]
  },
  {
   "cell_type": "markdown",
   "id": "c1f9599d",
   "metadata": {},
   "source": [
    "# DAY [ 2 ]"
   ]
  },
  {
   "cell_type": "markdown",
   "id": "27d13da0",
   "metadata": {},
   "source": [
    "#### Random Sample Imputer [Selction must be randomaly]\n",
    "#### Aim = It take random slection of values from the data set and with help of these data use some mathematics and fill at NaN value\n",
    "\n",
    "#### When it shoud be use - \n",
    "#### It assume that the data are missing completely random.\n"
   ]
  },
  {
   "cell_type": "code",
   "execution_count": 20,
   "id": "d7be11b6",
   "metadata": {},
   "outputs": [],
   "source": [
    "import pandas as pd"
   ]
  },
  {
   "cell_type": "code",
   "execution_count": 50,
   "id": "9595936a",
   "metadata": {},
   "outputs": [],
   "source": [
    "df_2 = pd.read_csv('C:\\\\Users\\V_K\\OneDrive\\Documents\\JupyterCodes\\Ml_project_3\\\\Titanic_train.csv',usecols = ['Age' , 'Fare' , 'Parch' ])"
   ]
  },
  {
   "cell_type": "code",
   "execution_count": 51,
   "id": "a57e6ca7",
   "metadata": {},
   "outputs": [
    {
     "name": "stdout",
     "output_type": "stream",
     "text": [
      "Age      0.198653\n",
      "Parch    0.000000\n",
      "Fare     0.000000\n",
      "dtype: float64\n",
      "     Age  Parch  Fare\n",
      "0    NaN    NaN   NaN\n",
      "1    NaN    NaN   NaN\n",
      "2    NaN    NaN   NaN\n",
      "3    NaN    NaN   NaN\n",
      "4    NaN    NaN   NaN\n",
      "..   ...    ...   ...\n",
      "886  NaN    NaN   NaN\n",
      "887  NaN    NaN   NaN\n",
      "888  NaN    NaN   NaN\n",
      "889  NaN    NaN   NaN\n",
      "890  NaN    NaN   NaN\n",
      "\n",
      "[891 rows x 3 columns]\n"
     ]
    }
   ],
   "source": [
    "print( df_2.isnull().mean() )\n",
    "print(df_2[df.isnull()])"
   ]
  },
  {
   "cell_type": "code",
   "execution_count": 52,
   "id": "71685726",
   "metadata": {},
   "outputs": [
    {
     "data": {
      "text/plain": [
       "177"
      ]
     },
     "execution_count": 52,
     "metadata": {},
     "output_type": "execute_result"
    }
   ],
   "source": [
    "df_2['Age'].isnull().sum()    # it Count all existing NaN value at edge"
   ]
  },
  {
   "cell_type": "code",
   "execution_count": 53,
   "id": "9f09d969",
   "metadata": {},
   "outputs": [
    {
     "data": {
      "text/plain": [
       "423    28.00\n",
       "177    50.00\n",
       "305     0.92\n",
       "292    36.00\n",
       "889    26.00\n",
       "       ...  \n",
       "539    22.00\n",
       "267    25.00\n",
       "352    15.00\n",
       "99     34.00\n",
       "689    15.00\n",
       "Name: Age, Length: 177, dtype: float64"
      ]
     },
     "execution_count": 53,
     "metadata": {},
     "output_type": "execute_result"
    }
   ],
   "source": [
    "df_2['Age'].dropna().sample(df['Age'].isnull().sum() ,random_state = 0) # "
   ]
  },
  {
   "cell_type": "markdown",
   "id": "cc651b35",
   "metadata": {},
   "source": [
    "#### dropna will extract the Existing Numerical Vlaue(exept =NaN) in age and randomly genarate a value at place of NaN"
   ]
  },
  {
   "cell_type": "code",
   "execution_count": 54,
   "id": "cda16b65",
   "metadata": {},
   "outputs": [],
   "source": [
    "def impute_nan(df, variable) :\n",
    "    df_2[variable + '_median'] = df_2[variable].fillna(df.median())  # this line fill the median value at place of null\n",
    "    df_2[variable + '_random'] = df_2[variable]       #  Which column have NaN take thoes column name\n",
    "    ## ir will have random sample to fill nan\n",
    "    random_sample = df_2[variable].dropna().sample(df_2[variable].isnull().sum() ,random_state = 0)\n",
    "    ## Pandas need to have same index in order to merge the data set\n",
    "    random_sample.index = df_2[df_2[variable].isnull()].index\n",
    "    df_2.loc[df_2[variable].isnull(),variable + '_random'] = random_sample"
   ]
  },
  {
   "cell_type": "code",
   "execution_count": 55,
   "id": "82f0cdd6",
   "metadata": {},
   "outputs": [
    {
     "data": {
      "text/html": [
       "<div>\n",
       "<style scoped>\n",
       "    .dataframe tbody tr th:only-of-type {\n",
       "        vertical-align: middle;\n",
       "    }\n",
       "\n",
       "    .dataframe tbody tr th {\n",
       "        vertical-align: top;\n",
       "    }\n",
       "\n",
       "    .dataframe thead th {\n",
       "        text-align: right;\n",
       "    }\n",
       "</style>\n",
       "<table border=\"1\" class=\"dataframe\">\n",
       "  <thead>\n",
       "    <tr style=\"text-align: right;\">\n",
       "      <th></th>\n",
       "      <th>Age</th>\n",
       "      <th>Parch</th>\n",
       "      <th>Fare</th>\n",
       "      <th>Age_median</th>\n",
       "      <th>Age_random</th>\n",
       "    </tr>\n",
       "  </thead>\n",
       "  <tbody>\n",
       "    <tr>\n",
       "      <th>0</th>\n",
       "      <td>22.0</td>\n",
       "      <td>0</td>\n",
       "      <td>7.2500</td>\n",
       "      <td>22.0</td>\n",
       "      <td>22.0</td>\n",
       "    </tr>\n",
       "    <tr>\n",
       "      <th>1</th>\n",
       "      <td>38.0</td>\n",
       "      <td>0</td>\n",
       "      <td>71.2833</td>\n",
       "      <td>38.0</td>\n",
       "      <td>38.0</td>\n",
       "    </tr>\n",
       "    <tr>\n",
       "      <th>2</th>\n",
       "      <td>26.0</td>\n",
       "      <td>0</td>\n",
       "      <td>7.9250</td>\n",
       "      <td>26.0</td>\n",
       "      <td>26.0</td>\n",
       "    </tr>\n",
       "    <tr>\n",
       "      <th>3</th>\n",
       "      <td>35.0</td>\n",
       "      <td>0</td>\n",
       "      <td>53.1000</td>\n",
       "      <td>35.0</td>\n",
       "      <td>35.0</td>\n",
       "    </tr>\n",
       "    <tr>\n",
       "      <th>4</th>\n",
       "      <td>35.0</td>\n",
       "      <td>0</td>\n",
       "      <td>8.0500</td>\n",
       "      <td>35.0</td>\n",
       "      <td>35.0</td>\n",
       "    </tr>\n",
       "  </tbody>\n",
       "</table>\n",
       "</div>"
      ],
      "text/plain": [
       "    Age  Parch     Fare  Age_median  Age_random\n",
       "0  22.0      0   7.2500        22.0        22.0\n",
       "1  38.0      0  71.2833        38.0        38.0\n",
       "2  26.0      0   7.9250        26.0        26.0\n",
       "3  35.0      0  53.1000        35.0        35.0\n",
       "4  35.0      0   8.0500        35.0        35.0"
      ]
     },
     "execution_count": 55,
     "metadata": {},
     "output_type": "execute_result"
    }
   ],
   "source": [
    "df_age = impute_nan( df_2 , 'Age')\n",
    "df_2.head()"
   ]
  },
  {
   "cell_type": "code",
   "execution_count": 65,
   "id": "6aed8e28",
   "metadata": {},
   "outputs": [
    {
     "data": {
      "image/png": "[encoded data removed]",
      "text/plain": [
       "<Figure size 864x720 with 1 Axes>"
      ]
     },
     "metadata": {
      "needs_background": "light"
     },
     "output_type": "display_data"
    }
   ],
   "source": [
    "fig = plt.figure(figsize = (12,10))\n",
    "ax = fig.add_subplot(111)\n",
    "df_2['Age'].plot(kind = 'kde' ,ax= ax ,color ='g')   # Age column taken from actual data set i.e. df_2\n",
    "df_2['Age_random'].plot(kind = 'kde' ,ax= ax ,color ='r')   # AGe raken from new data set where age calculated randomly\n",
    "lines ,lables = ax.get_legend_handles_labels()\n",
    "lables = ['With out Imputation' ,'With imputation of median' ]\n",
    "ax.legend(lines , lables ,loc = 'best')\n",
    "plt.show()"
   ]
  },
  {
   "cell_type": "markdown",
   "id": "15011ac3",
   "metadata": {},
   "source": [
    "#### WE can observe that there is no such as distortion happening in the variance bwn Actual data from with-out impurtion and with imputation"
   ]
  },
  {
   "cell_type": "markdown",
   "id": "94e6ae0a",
   "metadata": {},
   "source": [
    "### Advatange of Random Imputation - \n",
    "####     1 ] Easy to impuation\n",
    "####     2 ] Vey less distortion in variance \n",
    "### Disadvatnge - \n",
    "####     1 ] Every satuation randomness going to work\n",
    "    "
   ]
  },
  {
   "cell_type": "markdown",
   "id": "276cf7b0",
   "metadata": {},
   "source": [
    "##  3 ] Capturing Nan Value with new feature"
   ]
  },
  {
   "cell_type": "markdown",
   "id": "051034ae",
   "metadata": {},
   "source": [
    "#### it work well if  If data is not missing completly at randomly"
   ]
  },
  {
   "cell_type": "code",
   "execution_count": 66,
   "id": "f9c6488f",
   "metadata": {},
   "outputs": [],
   "source": [
    "df_3 = df_2 = pd.read_csv('C:\\\\Users\\V_K\\OneDrive\\Documents\\JupyterCodes\\Ml_project_3\\\\Titanic_train.csv',usecols = ['Age' , 'Fare' , 'Parch' ])"
   ]
  },
  {
   "cell_type": "code",
   "execution_count": 67,
   "id": "df6d4a7b",
   "metadata": {},
   "outputs": [
    {
     "data": {
      "text/html": [
       "<div>\n",
       "<style scoped>\n",
       "    .dataframe tbody tr th:only-of-type {\n",
       "        vertical-align: middle;\n",
       "    }\n",
       "\n",
       "    .dataframe tbody tr th {\n",
       "        vertical-align: top;\n",
       "    }\n",
       "\n",
       "    .dataframe thead th {\n",
       "        text-align: right;\n",
       "    }\n",
       "</style>\n",
       "<table border=\"1\" class=\"dataframe\">\n",
       "  <thead>\n",
       "    <tr style=\"text-align: right;\">\n",
       "      <th></th>\n",
       "      <th>Age</th>\n",
       "      <th>Parch</th>\n",
       "      <th>Fare</th>\n",
       "    </tr>\n",
       "  </thead>\n",
       "  <tbody>\n",
       "    <tr>\n",
       "      <th>0</th>\n",
       "      <td>22.0</td>\n",
       "      <td>0</td>\n",
       "      <td>7.2500</td>\n",
       "    </tr>\n",
       "    <tr>\n",
       "      <th>1</th>\n",
       "      <td>38.0</td>\n",
       "      <td>0</td>\n",
       "      <td>71.2833</td>\n",
       "    </tr>\n",
       "    <tr>\n",
       "      <th>2</th>\n",
       "      <td>26.0</td>\n",
       "      <td>0</td>\n",
       "      <td>7.9250</td>\n",
       "    </tr>\n",
       "    <tr>\n",
       "      <th>3</th>\n",
       "      <td>35.0</td>\n",
       "      <td>0</td>\n",
       "      <td>53.1000</td>\n",
       "    </tr>\n",
       "    <tr>\n",
       "      <th>4</th>\n",
       "      <td>35.0</td>\n",
       "      <td>0</td>\n",
       "      <td>8.0500</td>\n",
       "    </tr>\n",
       "    <tr>\n",
       "      <th>...</th>\n",
       "      <td>...</td>\n",
       "      <td>...</td>\n",
       "      <td>...</td>\n",
       "    </tr>\n",
       "    <tr>\n",
       "      <th>886</th>\n",
       "      <td>27.0</td>\n",
       "      <td>0</td>\n",
       "      <td>13.0000</td>\n",
       "    </tr>\n",
       "    <tr>\n",
       "      <th>887</th>\n",
       "      <td>19.0</td>\n",
       "      <td>0</td>\n",
       "      <td>30.0000</td>\n",
       "    </tr>\n",
       "    <tr>\n",
       "      <th>888</th>\n",
       "      <td>NaN</td>\n",
       "      <td>2</td>\n",
       "      <td>23.4500</td>\n",
       "    </tr>\n",
       "    <tr>\n",
       "      <th>889</th>\n",
       "      <td>26.0</td>\n",
       "      <td>0</td>\n",
       "      <td>30.0000</td>\n",
       "    </tr>\n",
       "    <tr>\n",
       "      <th>890</th>\n",
       "      <td>32.0</td>\n",
       "      <td>0</td>\n",
       "      <td>7.7500</td>\n",
       "    </tr>\n",
       "  </tbody>\n",
       "</table>\n",
       "<p>891 rows × 3 columns</p>\n",
       "</div>"
      ],
      "text/plain": [
       "      Age  Parch     Fare\n",
       "0    22.0      0   7.2500\n",
       "1    38.0      0  71.2833\n",
       "2    26.0      0   7.9250\n",
       "3    35.0      0  53.1000\n",
       "4    35.0      0   8.0500\n",
       "..    ...    ...      ...\n",
       "886  27.0      0  13.0000\n",
       "887  19.0      0  30.0000\n",
       "888   NaN      2  23.4500\n",
       "889  26.0      0  30.0000\n",
       "890  32.0      0   7.7500\n",
       "\n",
       "[891 rows x 3 columns]"
      ]
     },
     "execution_count": 67,
     "metadata": {},
     "output_type": "execute_result"
    }
   ],
   "source": [
    "df_3"
   ]
  },
  {
   "cell_type": "code",
   "execution_count": 69,
   "id": "64209ab6",
   "metadata": {},
   "outputs": [],
   "source": [
    "\n",
    "df_3['Age_NaN'] = np.where(df['Age'].isnull(),1,0)  # Capturing Nan Value with new feature"
   ]
  },
  {
   "cell_type": "code",
   "execution_count": 71,
   "id": "07aea76e",
   "metadata": {},
   "outputs": [
    {
     "data": {
      "text/html": [
       "<div>\n",
       "<style scoped>\n",
       "    .dataframe tbody tr th:only-of-type {\n",
       "        vertical-align: middle;\n",
       "    }\n",
       "\n",
       "    .dataframe tbody tr th {\n",
       "        vertical-align: top;\n",
       "    }\n",
       "\n",
       "    .dataframe thead th {\n",
       "        text-align: right;\n",
       "    }\n",
       "</style>\n",
       "<table border=\"1\" class=\"dataframe\">\n",
       "  <thead>\n",
       "    <tr style=\"text-align: right;\">\n",
       "      <th></th>\n",
       "      <th>Age</th>\n",
       "      <th>Parch</th>\n",
       "      <th>Fare</th>\n",
       "      <th>Age_NaN</th>\n",
       "    </tr>\n",
       "  </thead>\n",
       "  <tbody>\n",
       "    <tr>\n",
       "      <th>0</th>\n",
       "      <td>22.0</td>\n",
       "      <td>0</td>\n",
       "      <td>7.2500</td>\n",
       "      <td>0</td>\n",
       "    </tr>\n",
       "    <tr>\n",
       "      <th>1</th>\n",
       "      <td>38.0</td>\n",
       "      <td>0</td>\n",
       "      <td>71.2833</td>\n",
       "      <td>0</td>\n",
       "    </tr>\n",
       "    <tr>\n",
       "      <th>2</th>\n",
       "      <td>26.0</td>\n",
       "      <td>0</td>\n",
       "      <td>7.9250</td>\n",
       "      <td>0</td>\n",
       "    </tr>\n",
       "    <tr>\n",
       "      <th>3</th>\n",
       "      <td>35.0</td>\n",
       "      <td>0</td>\n",
       "      <td>53.1000</td>\n",
       "      <td>0</td>\n",
       "    </tr>\n",
       "    <tr>\n",
       "      <th>4</th>\n",
       "      <td>35.0</td>\n",
       "      <td>0</td>\n",
       "      <td>8.0500</td>\n",
       "      <td>0</td>\n",
       "    </tr>\n",
       "    <tr>\n",
       "      <th>...</th>\n",
       "      <td>...</td>\n",
       "      <td>...</td>\n",
       "      <td>...</td>\n",
       "      <td>...</td>\n",
       "    </tr>\n",
       "    <tr>\n",
       "      <th>886</th>\n",
       "      <td>27.0</td>\n",
       "      <td>0</td>\n",
       "      <td>13.0000</td>\n",
       "      <td>0</td>\n",
       "    </tr>\n",
       "    <tr>\n",
       "      <th>887</th>\n",
       "      <td>19.0</td>\n",
       "      <td>0</td>\n",
       "      <td>30.0000</td>\n",
       "      <td>0</td>\n",
       "    </tr>\n",
       "    <tr>\n",
       "      <th>888</th>\n",
       "      <td>NaN</td>\n",
       "      <td>2</td>\n",
       "      <td>23.4500</td>\n",
       "      <td>1</td>\n",
       "    </tr>\n",
       "    <tr>\n",
       "      <th>889</th>\n",
       "      <td>26.0</td>\n",
       "      <td>0</td>\n",
       "      <td>30.0000</td>\n",
       "      <td>0</td>\n",
       "    </tr>\n",
       "    <tr>\n",
       "      <th>890</th>\n",
       "      <td>32.0</td>\n",
       "      <td>0</td>\n",
       "      <td>7.7500</td>\n",
       "      <td>0</td>\n",
       "    </tr>\n",
       "  </tbody>\n",
       "</table>\n",
       "<p>891 rows × 4 columns</p>\n",
       "</div>"
      ],
      "text/plain": [
       "      Age  Parch     Fare  Age_NaN\n",
       "0    22.0      0   7.2500        0\n",
       "1    38.0      0  71.2833        0\n",
       "2    26.0      0   7.9250        0\n",
       "3    35.0      0  53.1000        0\n",
       "4    35.0      0   8.0500        0\n",
       "..    ...    ...      ...      ...\n",
       "886  27.0      0  13.0000        0\n",
       "887  19.0      0  30.0000        0\n",
       "888   NaN      2  23.4500        1\n",
       "889  26.0      0  30.0000        0\n",
       "890  32.0      0   7.7500        0\n",
       "\n",
       "[891 rows x 4 columns]"
      ]
     },
     "execution_count": 71,
     "metadata": {},
     "output_type": "execute_result"
    }
   ],
   "source": [
    "df_3"
   ]
  },
  {
   "cell_type": "code",
   "execution_count": 73,
   "id": "df51cacb",
   "metadata": {},
   "outputs": [
    {
     "data": {
      "text/plain": [
       "Age        19.86532\n",
       "Parch       0.00000\n",
       "Fare        0.00000\n",
       "Age_NaN     0.00000\n",
       "dtype: float64"
      ]
     },
     "execution_count": 73,
     "metadata": {},
     "output_type": "execute_result"
    }
   ],
   "source": [
    "df_3.isnull().sum()/df_3.shape[0]*100"
   ]
  },
  {
   "cell_type": "markdown",
   "id": "62aa9399",
   "metadata": {},
   "source": [
    "#### Value is  present mentioned as 0\n",
    "#### values is not presen mentioned as 1"
   ]
  },
  {
   "cell_type": "markdown",
   "id": "f81329d8",
   "metadata": {},
   "source": [
    "### Adavantages \n",
    "#### 1 ] Easy to implement\n",
    "#### 2 ] Capturing the importence of missing values"
   ]
  },
  {
   "cell_type": "code",
   "execution_count": null,
   "id": "d911acee",
   "metadata": {},
   "outputs": [],
   "source": []
  },
  {
   "cell_type": "code",
   "execution_count": null,
   "id": "160442dc",
   "metadata": {},
   "outputs": [],
   "source": []
  },
  {
   "cell_type": "code",
   "execution_count": null,
   "id": "f417c7d2",
   "metadata": {},
   "outputs": [],
   "source": []
  }
 ],
 "metadata": {
  "kernelspec": {
   "display_name": "Python 3 (ipykernel)",
   "language": "python",
   "name": "python3"
  },
  "language_info": {
   "codemirror_mode": {
    "name": "ipython",
    "version": 3
   },
   "file_extension": ".py",
   "mimetype": "text/x-python",
   "name": "python",
   "nbconvert_exporter": "python",
   "pygments_lexer": "ipython3",
   "version": "3.10.2"
  }
 },
 "nbformat": 4,
 "nbformat_minor": 5
}
