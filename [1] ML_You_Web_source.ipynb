{
 "cells": [
  {
   "cell_type": "markdown",
   "id": "9c1c37ec",
   "metadata": {},
   "source": [
    "### Sckit - Learn"
   ]
  },
  {
   "cell_type": "code",
   "execution_count": 1,
   "id": "1c3bf37a",
   "metadata": {},
   "outputs": [],
   "source": [
    "import pandas as pd\n",
    "import seaborn as sns\n",
    "import numpy as np\n",
    "import matplotlib.pyplot as plt\n",
    "from matplotlib.pyplot import style"
   ]
  },
  {
   "cell_type": "code",
   "execution_count": 2,
   "id": "4c176a16",
   "metadata": {},
   "outputs": [],
   "source": [
    "from sklearn.impute import SimpleImputer"
   ]
  },
  {
   "cell_type": "code",
   "execution_count": 3,
   "id": "49e20032",
   "metadata": {},
   "outputs": [
    {
     "name": "stdout",
     "output_type": "stream",
     "text": [
      "Train data set  (1460, 81)\n",
      "Test data set  (1460, 81)\n"
     ]
    }
   ],
   "source": [
    "link = r\"https://drive.google.com/file/d/1Al8t5j84VkisJOLzckfnxDmEKK7muT6p/view?usp=sharing\"\n",
    "pd_link = 'https://drive.google.com/uc?id='+link.split('/')[-2]\n",
    "train = pd.read_csv(pd_link)\n",
    "test = pd.read_csv(pd_link)\n",
    "print('Train data set ',train.shape)\n",
    "print('Test data set ',test.shape)"
   ]
  },
  {
   "cell_type": "code",
   "execution_count": 4,
   "id": "9d033ebd",
   "metadata": {},
   "outputs": [
    {
     "data": {
      "text/html": [
       "<div>\n",
       "<style scoped>\n",
       "    .dataframe tbody tr th:only-of-type {\n",
       "        vertical-align: middle;\n",
       "    }\n",
       "\n",
       "    .dataframe tbody tr th {\n",
       "        vertical-align: top;\n",
       "    }\n",
       "\n",
       "    .dataframe thead th {\n",
       "        text-align: right;\n",
       "    }\n",
       "</style>\n",
       "<table border=\"1\" class=\"dataframe\">\n",
       "  <thead>\n",
       "    <tr style=\"text-align: right;\">\n",
       "      <th></th>\n",
       "      <th>Id</th>\n",
       "      <th>MSSubClass</th>\n",
       "      <th>MSZoning</th>\n",
       "      <th>LotFrontage</th>\n",
       "      <th>LotArea</th>\n",
       "      <th>Street</th>\n",
       "      <th>Alley</th>\n",
       "      <th>LotShape</th>\n",
       "      <th>LandContour</th>\n",
       "      <th>Utilities</th>\n",
       "      <th>...</th>\n",
       "      <th>PoolArea</th>\n",
       "      <th>PoolQC</th>\n",
       "      <th>Fence</th>\n",
       "      <th>MiscFeature</th>\n",
       "      <th>MiscVal</th>\n",
       "      <th>MoSold</th>\n",
       "      <th>YrSold</th>\n",
       "      <th>SaleType</th>\n",
       "      <th>SaleCondition</th>\n",
       "      <th>SalePrice</th>\n",
       "    </tr>\n",
       "  </thead>\n",
       "  <tbody>\n",
       "    <tr>\n",
       "      <th>0</th>\n",
       "      <td>1</td>\n",
       "      <td>60</td>\n",
       "      <td>RL</td>\n",
       "      <td>65.0</td>\n",
       "      <td>8450</td>\n",
       "      <td>Pave</td>\n",
       "      <td>NaN</td>\n",
       "      <td>Reg</td>\n",
       "      <td>Lvl</td>\n",
       "      <td>AllPub</td>\n",
       "      <td>...</td>\n",
       "      <td>0</td>\n",
       "      <td>NaN</td>\n",
       "      <td>NaN</td>\n",
       "      <td>NaN</td>\n",
       "      <td>0</td>\n",
       "      <td>2</td>\n",
       "      <td>2008</td>\n",
       "      <td>WD</td>\n",
       "      <td>Normal</td>\n",
       "      <td>208500</td>\n",
       "    </tr>\n",
       "    <tr>\n",
       "      <th>1</th>\n",
       "      <td>2</td>\n",
       "      <td>20</td>\n",
       "      <td>RL</td>\n",
       "      <td>80.0</td>\n",
       "      <td>9600</td>\n",
       "      <td>Pave</td>\n",
       "      <td>NaN</td>\n",
       "      <td>Reg</td>\n",
       "      <td>Lvl</td>\n",
       "      <td>AllPub</td>\n",
       "      <td>...</td>\n",
       "      <td>0</td>\n",
       "      <td>NaN</td>\n",
       "      <td>NaN</td>\n",
       "      <td>NaN</td>\n",
       "      <td>0</td>\n",
       "      <td>5</td>\n",
       "      <td>2007</td>\n",
       "      <td>WD</td>\n",
       "      <td>Normal</td>\n",
       "      <td>181500</td>\n",
       "    </tr>\n",
       "    <tr>\n",
       "      <th>2</th>\n",
       "      <td>3</td>\n",
       "      <td>60</td>\n",
       "      <td>RL</td>\n",
       "      <td>68.0</td>\n",
       "      <td>11250</td>\n",
       "      <td>Pave</td>\n",
       "      <td>NaN</td>\n",
       "      <td>IR1</td>\n",
       "      <td>Lvl</td>\n",
       "      <td>AllPub</td>\n",
       "      <td>...</td>\n",
       "      <td>0</td>\n",
       "      <td>NaN</td>\n",
       "      <td>NaN</td>\n",
       "      <td>NaN</td>\n",
       "      <td>0</td>\n",
       "      <td>9</td>\n",
       "      <td>2008</td>\n",
       "      <td>WD</td>\n",
       "      <td>Normal</td>\n",
       "      <td>223500</td>\n",
       "    </tr>\n",
       "    <tr>\n",
       "      <th>3</th>\n",
       "      <td>4</td>\n",
       "      <td>70</td>\n",
       "      <td>RL</td>\n",
       "      <td>60.0</td>\n",
       "      <td>9550</td>\n",
       "      <td>Pave</td>\n",
       "      <td>NaN</td>\n",
       "      <td>IR1</td>\n",
       "      <td>Lvl</td>\n",
       "      <td>AllPub</td>\n",
       "      <td>...</td>\n",
       "      <td>0</td>\n",
       "      <td>NaN</td>\n",
       "      <td>NaN</td>\n",
       "      <td>NaN</td>\n",
       "      <td>0</td>\n",
       "      <td>2</td>\n",
       "      <td>2006</td>\n",
       "      <td>WD</td>\n",
       "      <td>Abnorml</td>\n",
       "      <td>140000</td>\n",
       "    </tr>\n",
       "    <tr>\n",
       "      <th>4</th>\n",
       "      <td>5</td>\n",
       "      <td>60</td>\n",
       "      <td>RL</td>\n",
       "      <td>84.0</td>\n",
       "      <td>14260</td>\n",
       "      <td>Pave</td>\n",
       "      <td>NaN</td>\n",
       "      <td>IR1</td>\n",
       "      <td>Lvl</td>\n",
       "      <td>AllPub</td>\n",
       "      <td>...</td>\n",
       "      <td>0</td>\n",
       "      <td>NaN</td>\n",
       "      <td>NaN</td>\n",
       "      <td>NaN</td>\n",
       "      <td>0</td>\n",
       "      <td>12</td>\n",
       "      <td>2008</td>\n",
       "      <td>WD</td>\n",
       "      <td>Normal</td>\n",
       "      <td>250000</td>\n",
       "    </tr>\n",
       "  </tbody>\n",
       "</table>\n",
       "<p>5 rows × 81 columns</p>\n",
       "</div>"
      ],
      "text/plain": [
       "   Id  MSSubClass MSZoning  LotFrontage  LotArea Street Alley LotShape  \\\n",
       "0   1          60       RL         65.0     8450   Pave   NaN      Reg   \n",
       "1   2          20       RL         80.0     9600   Pave   NaN      Reg   \n",
       "2   3          60       RL         68.0    11250   Pave   NaN      IR1   \n",
       "3   4          70       RL         60.0     9550   Pave   NaN      IR1   \n",
       "4   5          60       RL         84.0    14260   Pave   NaN      IR1   \n",
       "\n",
       "  LandContour Utilities  ... PoolArea PoolQC Fence MiscFeature MiscVal MoSold  \\\n",
       "0         Lvl    AllPub  ...        0    NaN   NaN         NaN       0      2   \n",
       "1         Lvl    AllPub  ...        0    NaN   NaN         NaN       0      5   \n",
       "2         Lvl    AllPub  ...        0    NaN   NaN         NaN       0      9   \n",
       "3         Lvl    AllPub  ...        0    NaN   NaN         NaN       0      2   \n",
       "4         Lvl    AllPub  ...        0    NaN   NaN         NaN       0     12   \n",
       "\n",
       "  YrSold  SaleType  SaleCondition  SalePrice  \n",
       "0   2008        WD         Normal     208500  \n",
       "1   2007        WD         Normal     181500  \n",
       "2   2008        WD         Normal     223500  \n",
       "3   2006        WD        Abnorml     140000  \n",
       "4   2008        WD         Normal     250000  \n",
       "\n",
       "[5 rows x 81 columns]"
      ]
     },
     "execution_count": 4,
     "metadata": {},
     "output_type": "execute_result"
    }
   ],
   "source": [
    "train.head()"
   ]
  },
  {
   "cell_type": "code",
   "execution_count": 5,
   "id": "cb1f49db",
   "metadata": {},
   "outputs": [
    {
     "name": "stdout",
     "output_type": "stream",
     "text": [
      "Shape of the X_train df =  (1460, 80)\n",
      "Shape of the y_Train df =  (1460,)\n"
     ]
    }
   ],
   "source": [
    "X_train = train.drop(columns = 'SalePrice')\n",
    "y_train = train['SalePrice']\n",
    "print('Shape of the X_train df = ',X_train.shape)\n",
    "print('Shape of the y_Train df = ',y_train.shape)"
   ]
  },
  {
   "cell_type": "code",
   "execution_count": 10,
   "id": "eeef3308",
   "metadata": {},
   "outputs": [
    {
     "name": "stdout",
     "output_type": "stream",
     "text": [
      "        Id  MSSubClass MSZoning  LotFrontage  LotArea Street Alley LotShape  \\\n",
      "0        1          60       RL         65.0     8450   Pave   NaN      Reg   \n",
      "1        2          20       RL         80.0     9600   Pave   NaN      Reg   \n",
      "2        3          60       RL         68.0    11250   Pave   NaN      IR1   \n",
      "3        4          70       RL         60.0     9550   Pave   NaN      IR1   \n",
      "4        5          60       RL         84.0    14260   Pave   NaN      IR1   \n",
      "...    ...         ...      ...          ...      ...    ...   ...      ...   \n",
      "1455  1456          60       RL         62.0     7917   Pave   NaN      Reg   \n",
      "1456  1457          20       RL         85.0    13175   Pave   NaN      Reg   \n",
      "1457  1458          70       RL         66.0     9042   Pave   NaN      Reg   \n",
      "1458  1459          20       RL         68.0     9717   Pave   NaN      Reg   \n",
      "1459  1460          20       RL         75.0     9937   Pave   NaN      Reg   \n",
      "\n",
      "     LandContour Utilities  ... ScreenPorch PoolArea PoolQC  Fence  \\\n",
      "0            Lvl    AllPub  ...           0        0    NaN    NaN   \n",
      "1            Lvl    AllPub  ...           0        0    NaN    NaN   \n",
      "2            Lvl    AllPub  ...           0        0    NaN    NaN   \n",
      "3            Lvl    AllPub  ...           0        0    NaN    NaN   \n",
      "4            Lvl    AllPub  ...           0        0    NaN    NaN   \n",
      "...          ...       ...  ...         ...      ...    ...    ...   \n",
      "1455         Lvl    AllPub  ...           0        0    NaN    NaN   \n",
      "1456         Lvl    AllPub  ...           0        0    NaN  MnPrv   \n",
      "1457         Lvl    AllPub  ...           0        0    NaN  GdPrv   \n",
      "1458         Lvl    AllPub  ...           0        0    NaN    NaN   \n",
      "1459         Lvl    AllPub  ...           0        0    NaN    NaN   \n",
      "\n",
      "     MiscFeature MiscVal MoSold  YrSold  SaleType  SaleCondition  \n",
      "0            NaN       0      2    2008        WD         Normal  \n",
      "1            NaN       0      5    2007        WD         Normal  \n",
      "2            NaN       0      9    2008        WD         Normal  \n",
      "3            NaN       0      2    2006        WD        Abnorml  \n",
      "4            NaN       0     12    2008        WD         Normal  \n",
      "...          ...     ...    ...     ...       ...            ...  \n",
      "1455         NaN       0      8    2007        WD         Normal  \n",
      "1456         NaN       0      2    2010        WD         Normal  \n",
      "1457        Shed    2500      5    2010        WD         Normal  \n",
      "1458         NaN       0      4    2010        WD         Normal  \n",
      "1459         NaN       0      6    2008        WD         Normal  \n",
      "\n",
      "[1460 rows x 80 columns]\n",
      "0       208500\n",
      "1       181500\n",
      "2       223500\n",
      "3       140000\n",
      "4       250000\n",
      "         ...  \n",
      "1455    175000\n",
      "1456    210000\n",
      "1457    266500\n",
      "1458    142125\n",
      "1459    147500\n",
      "Name: SalePrice, Length: 1460, dtype: int64\n"
     ]
    }
   ],
   "source": [
    "print(X_train);print(y_train)"
   ]
  },
  {
   "cell_type": "markdown",
   "id": "c8e45871",
   "metadata": {},
   "source": [
    "#### Imputation of Numerical missing Value"
   ]
  },
  {
   "cell_type": "code",
   "execution_count": null,
   "id": "ae933b93",
   "metadata": {},
   "outputs": [],
   "source": [
    "X_train.select_dtypes(include = ['int64','float64'])  # before imputaion of numerical value we selecting the numerical values"
   ]
  },
  {
   "cell_type": "code",
   "execution_count": 11,
   "id": "dbe0c419",
   "metadata": {},
   "outputs": [
    {
     "data": {
      "text/plain": [
       "Index(['Id', 'MSSubClass', 'LotFrontage', 'LotArea', 'OverallQual',\n",
       "       'OverallCond', 'YearBuilt', 'YearRemodAdd', 'MasVnrArea', 'BsmtFinSF1',\n",
       "       'BsmtFinSF2', 'BsmtUnfSF', 'TotalBsmtSF', '1stFlrSF', '2ndFlrSF',\n",
       "       'LowQualFinSF', 'GrLivArea', 'BsmtFullBath', 'BsmtHalfBath', 'FullBath',\n",
       "       'HalfBath', 'BedroomAbvGr', 'KitchenAbvGr', 'TotRmsAbvGrd',\n",
       "       'Fireplaces', 'GarageYrBlt', 'GarageCars', 'GarageArea', 'WoodDeckSF',\n",
       "       'OpenPorchSF', 'EnclosedPorch', '3SsnPorch', 'ScreenPorch', 'PoolArea',\n",
       "       'MiscVal', 'MoSold', 'YrSold'],\n",
       "      dtype='object')"
      ]
     },
     "execution_count": 11,
     "metadata": {},
     "output_type": "execute_result"
    }
   ],
   "source": [
    "Num_var = X_train.select_dtypes(include = ['int64','float64']).columns\n",
    "Num_var"
   ]
  },
  {
   "cell_type": "code",
   "execution_count": 12,
   "id": "779a05aa",
   "metadata": {},
   "outputs": [
    {
     "data": {
      "text/plain": [
       "Id                 0\n",
       "MSSubClass         0\n",
       "LotFrontage      259\n",
       "LotArea            0\n",
       "OverallQual        0\n",
       "OverallCond        0\n",
       "YearBuilt          0\n",
       "YearRemodAdd       0\n",
       "MasVnrArea         8\n",
       "BsmtFinSF1         0\n",
       "BsmtFinSF2         0\n",
       "BsmtUnfSF          0\n",
       "TotalBsmtSF        0\n",
       "1stFlrSF           0\n",
       "2ndFlrSF           0\n",
       "LowQualFinSF       0\n",
       "GrLivArea          0\n",
       "BsmtFullBath       0\n",
       "BsmtHalfBath       0\n",
       "FullBath           0\n",
       "HalfBath           0\n",
       "BedroomAbvGr       0\n",
       "KitchenAbvGr       0\n",
       "TotRmsAbvGrd       0\n",
       "Fireplaces         0\n",
       "GarageYrBlt       81\n",
       "GarageCars         0\n",
       "GarageArea         0\n",
       "WoodDeckSF         0\n",
       "OpenPorchSF        0\n",
       "EnclosedPorch      0\n",
       "3SsnPorch          0\n",
       "ScreenPorch        0\n",
       "PoolArea           0\n",
       "MiscVal            0\n",
       "MoSold             0\n",
       "YrSold             0\n",
       "dtype: int64"
      ]
     },
     "execution_count": 12,
     "metadata": {},
     "output_type": "execute_result"
    }
   ],
   "source": [
    "X_train[Num_var].isnull().sum()"
   ]
  },
  {
   "cell_type": "markdown",
   "id": "0f42c3de",
   "metadata": {},
   "source": [
    "### Filing the mean value at place of Nan"
   ]
  },
  {
   "cell_type": "code",
   "execution_count": 14,
   "id": "e1271e0f",
   "metadata": {},
   "outputs": [
    {
     "data": {
      "text/plain": [
       "SimpleImputer()"
      ]
     },
     "execution_count": 14,
     "metadata": {},
     "output_type": "execute_result"
    }
   ],
   "source": [
    "imputer_mean = SimpleImputer( strategy ='mean' )\n",
    "imputer_mean.fit(X_train[Num_var])"
   ]
  },
  {
   "cell_type": "code",
   "execution_count": 23,
   "id": "ceeb1acd",
   "metadata": {},
   "outputs": [
    {
     "data": {
      "text/plain": [
       "<AxesSubplot:>"
      ]
     },
     "execution_count": 23,
     "metadata": {},
     "output_type": "execute_result"
    },
    {
     "data": {
      "image/png": "[encoded data removed]",
      "text/plain": [
       "<Figure size 432x288 with 2 Axes>"
      ]
     },
     "metadata": {
      "needs_background": "light"
     },
     "output_type": "display_data"
    }
   ],
   "source": [
    "xx = imputer_mean.statistics_\n",
    "xx = pd.DataFrame(xx)\n",
    "sns.heatmap(xx)\n",
    "# pd.DataFrame(data, columns =['Name', 'Age', 'Score'])"
   ]
  },
  {
   "cell_type": "code",
   "execution_count": 30,
   "id": "5c0c091d",
   "metadata": {},
   "outputs": [],
   "source": [
    "X_train[Num_var] = imputer_mean.transform(X_train[Num_var])\n",
    "test[Num_var] = imputer_mean.transform(X_train[Num_var])\n"
   ]
  },
  {
   "cell_type": "code",
   "execution_count": 31,
   "id": "20d6d053",
   "metadata": {},
   "outputs": [
    {
     "name": "stdout",
     "output_type": "stream",
     "text": [
      "checking the missing value in the train dataset :   Id               0\n",
      "MSSubClass       0\n",
      "LotFrontage      0\n",
      "LotArea          0\n",
      "OverallQual      0\n",
      "OverallCond      0\n",
      "YearBuilt        0\n",
      "YearRemodAdd     0\n",
      "MasVnrArea       0\n",
      "BsmtFinSF1       0\n",
      "BsmtFinSF2       0\n",
      "BsmtUnfSF        0\n",
      "TotalBsmtSF      0\n",
      "1stFlrSF         0\n",
      "2ndFlrSF         0\n",
      "LowQualFinSF     0\n",
      "GrLivArea        0\n",
      "BsmtFullBath     0\n",
      "BsmtHalfBath     0\n",
      "FullBath         0\n",
      "HalfBath         0\n",
      "BedroomAbvGr     0\n",
      "KitchenAbvGr     0\n",
      "TotRmsAbvGrd     0\n",
      "Fireplaces       0\n",
      "GarageYrBlt      0\n",
      "GarageCars       0\n",
      "GarageArea       0\n",
      "WoodDeckSF       0\n",
      "OpenPorchSF      0\n",
      "EnclosedPorch    0\n",
      "3SsnPorch        0\n",
      "ScreenPorch      0\n",
      "PoolArea         0\n",
      "MiscVal          0\n",
      "MoSold           0\n",
      "YrSold           0\n",
      "dtype: int64\n",
      "checking the missing value in the test dataset :   Id               0\n",
      "MSSubClass       0\n",
      "LotFrontage      0\n",
      "LotArea          0\n",
      "OverallQual      0\n",
      "OverallCond      0\n",
      "YearBuilt        0\n",
      "YearRemodAdd     0\n",
      "MasVnrArea       0\n",
      "BsmtFinSF1       0\n",
      "BsmtFinSF2       0\n",
      "BsmtUnfSF        0\n",
      "TotalBsmtSF      0\n",
      "1stFlrSF         0\n",
      "2ndFlrSF         0\n",
      "LowQualFinSF     0\n",
      "GrLivArea        0\n",
      "BsmtFullBath     0\n",
      "BsmtHalfBath     0\n",
      "FullBath         0\n",
      "HalfBath         0\n",
      "BedroomAbvGr     0\n",
      "KitchenAbvGr     0\n",
      "TotRmsAbvGrd     0\n",
      "Fireplaces       0\n",
      "GarageYrBlt      0\n",
      "GarageCars       0\n",
      "GarageArea       0\n",
      "WoodDeckSF       0\n",
      "OpenPorchSF      0\n",
      "EnclosedPorch    0\n",
      "3SsnPorch        0\n",
      "ScreenPorch      0\n",
      "PoolArea         0\n",
      "MiscVal          0\n",
      "MoSold           0\n",
      "YrSold           0\n",
      "dtype: int64\n"
     ]
    }
   ],
   "source": [
    "print('checking the missing value in the train dataset :  ' , X_train[Num_var].isnull().sum() )\n",
    "print('checking the missing value in the test dataset :  ' , test[Num_var].isnull().sum() )"
   ]
  },
  {
   "cell_type": "code",
   "execution_count": 32,
   "id": "62c42d2a",
   "metadata": {},
   "outputs": [
    {
     "data": {
      "text/plain": [
       "Index(['MSZoning', 'Street', 'Alley', 'LotShape', 'LandContour', 'Utilities',\n",
       "       'LotConfig', 'LandSlope', 'Neighborhood', 'Condition1', 'Condition2',\n",
       "       'BldgType', 'HouseStyle', 'RoofStyle', 'RoofMatl', 'Exterior1st',\n",
       "       'Exterior2nd', 'MasVnrType', 'ExterQual', 'ExterCond', 'Foundation',\n",
       "       'BsmtQual', 'BsmtCond', 'BsmtExposure', 'BsmtFinType1', 'BsmtFinType2',\n",
       "       'Heating', 'HeatingQC', 'CentralAir', 'Electrical', 'KitchenQual',\n",
       "       'Functional', 'FireplaceQu', 'GarageType', 'GarageFinish', 'GarageQual',\n",
       "       'GarageCond', 'PavedDrive', 'PoolQC', 'Fence', 'MiscFeature',\n",
       "       'SaleType', 'SaleCondition'],\n",
       "      dtype='object')"
      ]
     },
     "execution_count": 32,
     "metadata": {},
     "output_type": "execute_result"
    }
   ],
   "source": [
    "ctg_var = X_train.select_dtypes(include = ['O']).columns\n",
    "ctg_var"
   ]
  },
  {
   "cell_type": "code",
   "execution_count": 33,
   "id": "bc7bd687",
   "metadata": {},
   "outputs": [
    {
     "ename": "NameError",
     "evalue": "name 'Num_ctg' is not defined",
     "output_type": "error",
     "traceback": [
      "\u001b[1;31m---------------------------------------------------------------------------\u001b[0m",
      "\u001b[1;31mNameError\u001b[0m                                 Traceback (most recent call last)",
      "Input \u001b[1;32mIn [33]\u001b[0m, in \u001b[0;36m<module>\u001b[1;34m\u001b[0m\n\u001b[1;32m----> 1\u001b[0m X_train[\u001b[43mNum_ctg\u001b[49m]\u001b[38;5;241m.\u001b[39misnull()\u001b[38;5;241m.\u001b[39msum()\n",
      "\u001b[1;31mNameError\u001b[0m: name 'Num_ctg' is not defined"
     ]
    }
   ],
   "source": [
    "X_train[Num_ctg].isnull().sum()"
   ]
  },
  {
   "cell_type": "code",
   "execution_count": null,
   "id": "ed58f3c7",
   "metadata": {},
   "outputs": [],
   "source": []
  },
  {
   "cell_type": "code",
   "execution_count": null,
   "id": "f36e8e85",
   "metadata": {},
   "outputs": [],
   "source": []
  },
  {
   "cell_type": "code",
   "execution_count": null,
   "id": "d027230a",
   "metadata": {},
   "outputs": [],
   "source": []
  },
  {
   "cell_type": "code",
   "execution_count": null,
   "id": "11b9d256",
   "metadata": {},
   "outputs": [],
   "source": []
  }
 ],
 "metadata": {
  "kernelspec": {
   "display_name": "Python 3 (ipykernel)",
   "language": "python",
   "name": "python3"
  },
  "language_info": {
   "codemirror_mode": {
    "name": "ipython",
    "version": 3
   },
   "file_extension": ".py",
   "mimetype": "text/x-python",
   "name": "python",
   "nbconvert_exporter": "python",
   "pygments_lexer": "ipython3",
   "version": "3.10.2"
  }
 },
 "nbformat": 4,
 "nbformat_minor": 5
}
