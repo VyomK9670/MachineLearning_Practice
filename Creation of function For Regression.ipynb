{
 "cells": [
  {
   "cell_type": "code",
   "execution_count": null,
   "id": "d21465b7",
   "metadata": {},
   "outputs": [],
   "source": [
    "# from sklearn.linear_model import LinearRegression\n",
    "# model = input('select the number for model \\n 1) LinearRegression \\n  2) DecisionTreeRegressor \\n 3) RandomForestRegressor :',)\n",
    "def fun_for_selctino_of_regre_model(model,housing_without_MEDV,housing_label ):\n",
    "    if model == \"1\":\n",
    "        from sklearn.linear_model import LinearRegression\n",
    "        model_use = 'LinearRegression'\n",
    "    elif model == \"2\":\n",
    "        from sklearn.tree import DecisionTreeRegressor\n",
    "        model_use = 'DecisionTreeRegressor'\n",
    "    elif model == \"3\" :\n",
    "        from sklearn.ensemble import RandomForestRegressor\n",
    "        model_use = 'RandomForestRegressor'\n",
    "#     model =RandomForestRegressor()\n",
    "#     print(model)\n",
    "        model.fit(housing_without_MEDV,housing_label)\n",
    "#     print(housing_without_MEDV.shape)\n",
    "        for_prdiction_feature = housing_without_MEDV[:5]\n",
    "        Actual_labels = housing_label[:5]\n",
    "        predictd_house_model = model.predict(for_prdiction_feature)\n",
    "#     print(predictd_model)\n",
    "#     print(list(Actual_labels))\n",
    "    # For calculation of predicted squared mean error \n",
    "        from sklearn.metrics import mean_absolute_error\n",
    "        housing_prediction = mean_squared_error(predictd_house_model,Actual_labels )\n",
    "        mean_sqrt_err = np.sqrt(housing_prediction)\n",
    "#     mean_sqrt_err\n",
    "        from sklearn.model_selection import cross_val_score\n",
    "        score = cross_val_score(model ,housing_without_MEDV,housing_label,scoring = 'neg_mean_squared_error',cv= 10)\n",
    "#     score\n",
    "        rmse_score = np.sqrt(abs(score))\n",
    "#     rmse_score\n",
    "#         print_scores(rmse_score)\n",
    "        print('you have been used ',model_use)\n",
    "        print('Scores             : ',rmse_score)\n",
    "        print('Mean               :',score.mean())\n",
    "        print('Standerd deviation : ', score.std())\n",
    "    return()\n",
    "\n"
   ]
  },
  {
   "cell_type": "code",
   "execution_count": null,
   "id": "55e8addc",
   "metadata": {},
   "outputs": [],
   "source": []
  },
  {
   "cell_type": "code",
   "execution_count": 6,
   "id": "a5565669",
   "metadata": {},
   "outputs": [
    {
     "data": {
      "text/plain": [
       "()"
      ]
     },
     "execution_count": 6,
     "metadata": {},
     "output_type": "execute_result"
    }
   ],
   "source": []
  },
  {
   "cell_type": "code",
   "execution_count": null,
   "id": "f58814b4",
   "metadata": {},
   "outputs": [],
   "source": []
  },
  {
   "cell_type": "code",
   "execution_count": null,
   "id": "22d356ce",
   "metadata": {},
   "outputs": [],
   "source": []
  },
  {
   "cell_type": "code",
   "execution_count": null,
   "id": "cd526b33",
   "metadata": {},
   "outputs": [],
   "source": []
  },
  {
   "cell_type": "code",
   "execution_count": null,
   "id": "6befa8d4",
   "metadata": {},
   "outputs": [],
   "source": []
  },
  {
   "cell_type": "code",
   "execution_count": null,
   "id": "c5121665",
   "metadata": {},
   "outputs": [],
   "source": []
  },
  {
   "cell_type": "code",
   "execution_count": null,
   "id": "16afb27b",
   "metadata": {},
   "outputs": [],
   "source": []
  },
  {
   "cell_type": "code",
   "execution_count": null,
   "id": "3a8277ce",
   "metadata": {},
   "outputs": [],
   "source": []
  },
  {
   "cell_type": "code",
   "execution_count": null,
   "id": "30a79633",
   "metadata": {},
   "outputs": [],
   "source": []
  },
  {
   "cell_type": "code",
   "execution_count": null,
   "id": "01d9b811",
   "metadata": {},
   "outputs": [],
   "source": []
  }
 ],
 "metadata": {
  "kernelspec": {
   "display_name": "Python 3 (ipykernel)",
   "language": "python",
   "name": "python3"
  },
  "language_info": {
   "codemirror_mode": {
    "name": "ipython",
    "version": 3
   },
   "file_extension": ".py",
   "mimetype": "text/x-python",
   "name": "python",
   "nbconvert_exporter": "python",
   "pygments_lexer": "ipython3",
   "version": "3.10.2"
  }
 },
 "nbformat": 4,
 "nbformat_minor": 5
}
